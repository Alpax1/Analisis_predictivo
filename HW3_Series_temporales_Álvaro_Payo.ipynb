{
  "nbformat": 4,
  "nbformat_minor": 0,
  "metadata": {
    "colab": {
      "provenance": [],
      "collapsed_sections": [
        "z35EuVFALixA"
      ]
    },
    "kernelspec": {
      "name": "python3",
      "display_name": "Python 3"
    },
    "language_info": {
      "name": "python"
    }
  },
  "cells": [
    {
      "cell_type": "markdown",
      "source": [
        "## **HW3 - Series temporales: StackOverFlow**\n",
        "## Álvaro Payo Bastante"
      ],
      "metadata": {
        "id": "Fzw1A3dXSvRN"
      }
    },
    {
      "cell_type": "code",
      "execution_count": 3,
      "metadata": {
        "id": "UnGBCRR3JsyU"
      },
      "outputs": [],
      "source": [
        "import warnings\n",
        "warnings.filterwarnings('ignore')"
      ]
    },
    {
      "cell_type": "markdown",
      "source": [
        "## **1. Importar librerías y datos**"
      ],
      "metadata": {
        "id": "cmIW3MyNLpe9"
      }
    },
    {
      "cell_type": "code",
      "source": [
        "import pandas as pd\n",
        "import numpy as np\n",
        "import matplotlib.pyplot as plt\n",
        "\n",
        "import statsmodels.api as sm\n",
        "\n",
        "from darts import TimeSeries\n",
        "from darts.datasets import AirPassengersDataset\n",
        "from darts.models import Theta, FourTheta\n",
        "from darts.models import TBATS\n",
        "from darts.metrics import mape\n",
        "from darts.utils.utils import SeasonalityMode, TrendMode, ModelMode\n",
        "\n",
        "import sktime\n",
        "from sktime.forecasting.base import ForecastingHorizon\n",
        "from sktime.utils.plotting import plot_series\n",
        "from sktime.forecasting.model_selection import temporal_train_test_split\n",
        "from sktime.forecasting.ets import AutoETS\n",
        "from sktime.forecasting.arima import AutoARIMA\n",
        "from sktime.performance_metrics.forecasting import mean_absolute_percentage_error\n",
        "from sktime.performance_metrics.forecasting import MeanSquaredError\n",
        "from sktime.transformations.series.boxcox import LogTransformer\n",
        "from sktime.utils.plotting import plot_correlations\n"
      ],
      "metadata": {
        "id": "TqyIYA-bKAmj"
      },
      "execution_count": 4,
      "outputs": []
    },
    {
      "cell_type": "code",
      "source": [
        "#Importamos la libreria de gráficos Seaborn\n",
        "import seaborn as sns\n",
        "sns.set(rc={'figure.figsize':(11, 4)})"
      ],
      "metadata": {
        "id": "_Cl6w4PbKfYm"
      },
      "execution_count": 5,
      "outputs": []
    },
    {
      "cell_type": "code",
      "source": [
        "from google.colab import drive\n",
        "drive.mount('/content/drive')"
      ],
      "metadata": {
        "colab": {
          "base_uri": "https://localhost:8080/"
        },
        "id": "0Ovt18N3MF0x",
        "outputId": "aba83147-2364-4a5a-c80e-a8af44768194"
      },
      "execution_count": 6,
      "outputs": [
        {
          "output_type": "stream",
          "name": "stdout",
          "text": [
            "Mounted at /content/drive\n"
          ]
        }
      ]
    },
    {
      "cell_type": "code",
      "source": [
        "df = pd.read_csv('/content/drive/MyDrive/Análisis predictivo/StackOverflow.csv')"
      ],
      "metadata": {
        "id": "MoZdJiXoMSk9"
      },
      "execution_count": 7,
      "outputs": []
    },
    {
      "cell_type": "code",
      "source": [
        "df_matlab = pd.DataFrame()\n",
        "\n",
        "df_matlab['Fecha'] = pd.date_range(start='1/1/2009', end='31/12/2019', freq = 'M')\n",
        "df_matlab['matlab'] = df['matlab']\n",
        "df_matlab['Fecha'] = pd.to_datetime(df_matlab['Fecha'])\n",
        "df_matlab = df_matlab.set_index('Fecha')\n",
        "\n",
        "df_matlab.head()"
      ],
      "metadata": {
        "id": "yB_UrmryNQol",
        "colab": {
          "base_uri": "https://localhost:8080/",
          "height": 237
        },
        "outputId": "853a001a-88ca-4631-804d-fa7913b536ae"
      },
      "execution_count": 8,
      "outputs": [
        {
          "output_type": "execute_result",
          "data": {
            "text/plain": [
              "            matlab\n",
              "Fecha             \n",
              "2009-01-31      19\n",
              "2009-02-28      27\n",
              "2009-03-31      24\n",
              "2009-04-30      32\n",
              "2009-05-31      42"
            ],
            "text/html": [
              "\n",
              "  <div id=\"df-230485bf-f6e9-480d-b9e6-cfe81744a064\">\n",
              "    <div class=\"colab-df-container\">\n",
              "      <div>\n",
              "<style scoped>\n",
              "    .dataframe tbody tr th:only-of-type {\n",
              "        vertical-align: middle;\n",
              "    }\n",
              "\n",
              "    .dataframe tbody tr th {\n",
              "        vertical-align: top;\n",
              "    }\n",
              "\n",
              "    .dataframe thead th {\n",
              "        text-align: right;\n",
              "    }\n",
              "</style>\n",
              "<table border=\"1\" class=\"dataframe\">\n",
              "  <thead>\n",
              "    <tr style=\"text-align: right;\">\n",
              "      <th></th>\n",
              "      <th>matlab</th>\n",
              "    </tr>\n",
              "    <tr>\n",
              "      <th>Fecha</th>\n",
              "      <th></th>\n",
              "    </tr>\n",
              "  </thead>\n",
              "  <tbody>\n",
              "    <tr>\n",
              "      <th>2009-01-31</th>\n",
              "      <td>19</td>\n",
              "    </tr>\n",
              "    <tr>\n",
              "      <th>2009-02-28</th>\n",
              "      <td>27</td>\n",
              "    </tr>\n",
              "    <tr>\n",
              "      <th>2009-03-31</th>\n",
              "      <td>24</td>\n",
              "    </tr>\n",
              "    <tr>\n",
              "      <th>2009-04-30</th>\n",
              "      <td>32</td>\n",
              "    </tr>\n",
              "    <tr>\n",
              "      <th>2009-05-31</th>\n",
              "      <td>42</td>\n",
              "    </tr>\n",
              "  </tbody>\n",
              "</table>\n",
              "</div>\n",
              "      <button class=\"colab-df-convert\" onclick=\"convertToInteractive('df-230485bf-f6e9-480d-b9e6-cfe81744a064')\"\n",
              "              title=\"Convert this dataframe to an interactive table.\"\n",
              "              style=\"display:none;\">\n",
              "        \n",
              "  <svg xmlns=\"http://www.w3.org/2000/svg\" height=\"24px\"viewBox=\"0 0 24 24\"\n",
              "       width=\"24px\">\n",
              "    <path d=\"M0 0h24v24H0V0z\" fill=\"none\"/>\n",
              "    <path d=\"M18.56 5.44l.94 2.06.94-2.06 2.06-.94-2.06-.94-.94-2.06-.94 2.06-2.06.94zm-11 1L8.5 8.5l.94-2.06 2.06-.94-2.06-.94L8.5 2.5l-.94 2.06-2.06.94zm10 10l.94 2.06.94-2.06 2.06-.94-2.06-.94-.94-2.06-.94 2.06-2.06.94z\"/><path d=\"M17.41 7.96l-1.37-1.37c-.4-.4-.92-.59-1.43-.59-.52 0-1.04.2-1.43.59L10.3 9.45l-7.72 7.72c-.78.78-.78 2.05 0 2.83L4 21.41c.39.39.9.59 1.41.59.51 0 1.02-.2 1.41-.59l7.78-7.78 2.81-2.81c.8-.78.8-2.07 0-2.86zM5.41 20L4 18.59l7.72-7.72 1.47 1.35L5.41 20z\"/>\n",
              "  </svg>\n",
              "      </button>\n",
              "      \n",
              "  <style>\n",
              "    .colab-df-container {\n",
              "      display:flex;\n",
              "      flex-wrap:wrap;\n",
              "      gap: 12px;\n",
              "    }\n",
              "\n",
              "    .colab-df-convert {\n",
              "      background-color: #E8F0FE;\n",
              "      border: none;\n",
              "      border-radius: 50%;\n",
              "      cursor: pointer;\n",
              "      display: none;\n",
              "      fill: #1967D2;\n",
              "      height: 32px;\n",
              "      padding: 0 0 0 0;\n",
              "      width: 32px;\n",
              "    }\n",
              "\n",
              "    .colab-df-convert:hover {\n",
              "      background-color: #E2EBFA;\n",
              "      box-shadow: 0px 1px 2px rgba(60, 64, 67, 0.3), 0px 1px 3px 1px rgba(60, 64, 67, 0.15);\n",
              "      fill: #174EA6;\n",
              "    }\n",
              "\n",
              "    [theme=dark] .colab-df-convert {\n",
              "      background-color: #3B4455;\n",
              "      fill: #D2E3FC;\n",
              "    }\n",
              "\n",
              "    [theme=dark] .colab-df-convert:hover {\n",
              "      background-color: #434B5C;\n",
              "      box-shadow: 0px 1px 3px 1px rgba(0, 0, 0, 0.15);\n",
              "      filter: drop-shadow(0px 1px 2px rgba(0, 0, 0, 0.3));\n",
              "      fill: #FFFFFF;\n",
              "    }\n",
              "  </style>\n",
              "\n",
              "      <script>\n",
              "        const buttonEl =\n",
              "          document.querySelector('#df-230485bf-f6e9-480d-b9e6-cfe81744a064 button.colab-df-convert');\n",
              "        buttonEl.style.display =\n",
              "          google.colab.kernel.accessAllowed ? 'block' : 'none';\n",
              "\n",
              "        async function convertToInteractive(key) {\n",
              "          const element = document.querySelector('#df-230485bf-f6e9-480d-b9e6-cfe81744a064');\n",
              "          const dataTable =\n",
              "            await google.colab.kernel.invokeFunction('convertToInteractive',\n",
              "                                                     [key], {});\n",
              "          if (!dataTable) return;\n",
              "\n",
              "          const docLinkHtml = 'Like what you see? Visit the ' +\n",
              "            '<a target=\"_blank\" href=https://colab.research.google.com/notebooks/data_table.ipynb>data table notebook</a>'\n",
              "            + ' to learn more about interactive tables.';\n",
              "          element.innerHTML = '';\n",
              "          dataTable['output_type'] = 'display_data';\n",
              "          await google.colab.output.renderOutput(dataTable, element);\n",
              "          const docLink = document.createElement('div');\n",
              "          docLink.innerHTML = docLinkHtml;\n",
              "          element.appendChild(docLink);\n",
              "        }\n",
              "      </script>\n",
              "    </div>\n",
              "  </div>\n",
              "  "
            ]
          },
          "metadata": {},
          "execution_count": 8
        }
      ]
    },
    {
      "cell_type": "code",
      "source": [
        "df_matlab.index = pd.PeriodIndex(df_matlab.index, freq=\"M\")"
      ],
      "metadata": {
        "id": "zh3PicLdT7Zn"
      },
      "execution_count": 9,
      "outputs": []
    },
    {
      "cell_type": "code",
      "source": [
        "#No hay NA's\n",
        "df_matlab.isnull().sum()"
      ],
      "metadata": {
        "id": "KzseELDuNFOS",
        "colab": {
          "base_uri": "https://localhost:8080/"
        },
        "outputId": "c3108f06-41e8-465c-fb4a-6b549a106bf7"
      },
      "execution_count": 10,
      "outputs": [
        {
          "output_type": "execute_result",
          "data": {
            "text/plain": [
              "matlab    0\n",
              "dtype: int64"
            ]
          },
          "metadata": {},
          "execution_count": 10
        }
      ]
    },
    {
      "cell_type": "markdown",
      "source": [
        "Tras cargar los datos, me creo un DataFrame en el que incluyo los meses desde enero de 2009 hasta diciembre de 2019, y la columna que contiene las consultas de matlab.\n",
        "\n",
        "Por último, la columna de fecha la pongo como índice y me aseguro de que no hay NA's. "
      ],
      "metadata": {
        "id": "0qakUIDoCDVn"
      }
    },
    {
      "cell_type": "markdown",
      "source": [
        "## **2. División en train y test**"
      ],
      "metadata": {
        "id": "QG1U5xhVmV2g"
      }
    },
    {
      "cell_type": "code",
      "source": [
        "data_train = df_matlab['2009-01':'2019-06']\n",
        "data_test = df_matlab['2019-07':'2019-12']\n",
        "\n",
        "#Plot data \n",
        "data_train['matlab'].plot(legend=True,label='data_train_sin',marker='o')\n",
        "data_test['matlab'].plot(legend=True,label='data_test_sin',figsize=(11,4),marker='o');"
      ],
      "metadata": {
        "colab": {
          "base_uri": "https://localhost:8080/",
          "height": 270
        },
        "id": "JhUSVpM6l8Nm",
        "outputId": "c0ac2f11-a6d9-40c4-8e52-de7f45b50074"
      },
      "execution_count": 81,
      "outputs": [
        {
          "output_type": "display_data",
          "data": {
            "text/plain": [
              "<Figure size 792x288 with 1 Axes>"
            ],
            "image/png": "[encoded data removed]"
          },
          "metadata": {}
        }
      ]
    },
    {
      "cell_type": "markdown",
      "source": [
        "Divido la muestra en train y test. Train contiene las consultas desde 2009-01 hasta 2019-06, y test desde 2019-07 hasta 2019-12."
      ],
      "metadata": {
        "id": "1-5xo36cDlDH"
      }
    },
    {
      "cell_type": "markdown",
      "source": [
        "## **3. ETS**"
      ],
      "metadata": {
        "id": "ONGcv6mIZbB9"
      }
    },
    {
      "cell_type": "code",
      "source": [
        "ax = plt.gca()\n",
        "sm.graphics.tsa.month_plot(df_matlab, ax = ax)\n",
        "ax.set_title('Comportamiento Estacional')"
      ],
      "metadata": {
        "id": "Jki_wg4PZiS3",
        "colab": {
          "base_uri": "https://localhost:8080/",
          "height": 302
        },
        "outputId": "33de344a-742e-4d62-a0d2-e74982c5524a"
      },
      "execution_count": 14,
      "outputs": [
        {
          "output_type": "execute_result",
          "data": {
            "text/plain": [
              "Text(0.5, 1.0, 'Comportamiento Estacional')"
            ]
          },
          "metadata": {},
          "execution_count": 14
        },
        {
          "output_type": "display_data",
          "data": {
            "text/plain": [
              "<Figure size 792x288 with 1 Axes>"
            ],
            "image/png": "[encoded data removed]"
          },
          "metadata": {}
        }
      ]
    },
    {
      "cell_type": "code",
      "source": [
        "fh = np.arange(1, 7)\n",
        "\n",
        "autoETS_model = AutoETS(auto = True, sp = 12, n_jobs = -1)"
      ],
      "metadata": {
        "id": "SjdskV_UmQDa"
      },
      "execution_count": 15,
      "outputs": []
    },
    {
      "cell_type": "code",
      "source": [
        "#Auto ETS Model Estimation\n",
        "autoETS_model.fit(data_train)"
      ],
      "metadata": {
        "colab": {
          "base_uri": "https://localhost:8080/"
        },
        "id": "9U7Wh2LwmRsp",
        "outputId": "95def7a3-3ff9-4ae0-c851-7529bf21c670"
      },
      "execution_count": 16,
      "outputs": [
        {
          "output_type": "execute_result",
          "data": {
            "text/plain": [
              "AutoETS(auto=True, n_jobs=-1, sp=12)"
            ]
          },
          "metadata": {},
          "execution_count": 16
        }
      ]
    },
    {
      "cell_type": "code",
      "source": [
        "#Auto ETS Model Summary\n",
        "print(autoETS_model.summary())"
      ],
      "metadata": {
        "colab": {
          "base_uri": "https://localhost:8080/"
        },
        "id": "hQ4dz8yamTZ-",
        "outputId": "b3c735d5-48b1-4d83-9bf5-fd5f88299a97"
      },
      "execution_count": 17,
      "outputs": [
        {
          "output_type": "stream",
          "name": "stdout",
          "text": [
            "                                 ETS Results                                  \n",
            "==============================================================================\n",
            "Dep. Variable:                      y   No. Observations:                  126\n",
            "Model:                       ETS(MAM)   Log Likelihood                -690.953\n",
            "Date:                Sun, 27 Nov 2022   AIC                           1417.907\n",
            "Time:                        16:25:43   BIC                           1468.960\n",
            "Sample:                    01-31-2009   HQIC                          1438.648\n",
            "                         - 06-30-2019   Scale                            0.015\n",
            "Covariance Type:               approx                                         \n",
            "=======================================================================================\n",
            "                          coef    std err          z      P>|z|      [0.025      0.975]\n",
            "---------------------------------------------------------------------------------------\n",
            "smoothing_level         0.9999      0.107      9.376      0.000       0.791       1.209\n",
            "smoothing_trend         0.0182      0.022      0.834      0.404      -0.025       0.061\n",
            "smoothing_seasonal   7.188e-05        nan        nan        nan         nan         nan\n",
            "initial_level          11.6036        nan        nan        nan         nan         nan\n",
            "initial_trend           7.1240        nan        nan        nan         nan         nan\n",
            "initial_seasonal.0      0.9754        nan        nan        nan         nan         nan\n",
            "initial_seasonal.1      1.1821        nan        nan        nan         nan         nan\n",
            "initial_seasonal.2      1.1173        nan        nan        nan         nan         nan\n",
            "initial_seasonal.3      0.9315        nan        nan        nan         nan         nan\n",
            "initial_seasonal.4      0.9155        nan        nan        nan         nan         nan\n",
            "initial_seasonal.5      1.0014        nan        nan        nan         nan         nan\n",
            "initial_seasonal.6      1.0488        nan        nan        nan         nan         nan\n",
            "initial_seasonal.7      1.2395        nan        nan        nan         nan         nan\n",
            "initial_seasonal.8      1.3300        nan        nan        nan         nan         nan\n",
            "initial_seasonal.9      1.2778        nan        nan        nan         nan         nan\n",
            "initial_seasonal.10     1.1198        nan        nan        nan         nan         nan\n",
            "initial_seasonal.11     1.0000        nan        nan        nan         nan         nan\n",
            "===================================================================================\n",
            "Ljung-Box (Q):                       26.23   Jarque-Bera (JB):                27.93\n",
            "Prob(Q):                              0.34   Prob(JB):                         0.00\n",
            "Heteroskedasticity (H):               0.31   Skew:                             0.57\n",
            "Prob(H) (two-sided):                  0.00   Kurtosis:                         5.00\n",
            "===================================================================================\n",
            "\n",
            "Warnings:\n",
            "[1] Covariance matrix calculated using numerical (complex-step) differentiation.\n"
          ]
        }
      ]
    },
    {
      "cell_type": "code",
      "source": [
        "#Auto ETS Forecasting\n",
        "ETS_pred = autoETS_model.predict(fh)\n",
        "ETS_pred"
      ],
      "metadata": {
        "colab": {
          "base_uri": "https://localhost:8080/",
          "height": 237
        },
        "id": "C0eWOnPMmVC4",
        "outputId": "8d3e75c4-ce0a-4fd7-99d3-f2df0480ca7e"
      },
      "execution_count": 18,
      "outputs": [
        {
          "output_type": "execute_result",
          "data": {
            "text/plain": [
              "             matlab\n",
              "2019-07  344.539077\n",
              "2019-08  311.381022\n",
              "2019-09  313.153998\n",
              "2019-10  371.188751\n",
              "2019-11  388.067150\n",
              "2019-12  316.343059"
            ],
            "text/html": [
              "\n",
              "  <div id=\"df-a8ba9291-97fc-4448-afdd-6adf302b550f\">\n",
              "    <div class=\"colab-df-container\">\n",
              "      <div>\n",
              "<style scoped>\n",
              "    .dataframe tbody tr th:only-of-type {\n",
              "        vertical-align: middle;\n",
              "    }\n",
              "\n",
              "    .dataframe tbody tr th {\n",
              "        vertical-align: top;\n",
              "    }\n",
              "\n",
              "    .dataframe thead th {\n",
              "        text-align: right;\n",
              "    }\n",
              "</style>\n",
              "<table border=\"1\" class=\"dataframe\">\n",
              "  <thead>\n",
              "    <tr style=\"text-align: right;\">\n",
              "      <th></th>\n",
              "      <th>matlab</th>\n",
              "    </tr>\n",
              "  </thead>\n",
              "  <tbody>\n",
              "    <tr>\n",
              "      <th>2019-07</th>\n",
              "      <td>344.539077</td>\n",
              "    </tr>\n",
              "    <tr>\n",
              "      <th>2019-08</th>\n",
              "      <td>311.381022</td>\n",
              "    </tr>\n",
              "    <tr>\n",
              "      <th>2019-09</th>\n",
              "      <td>313.153998</td>\n",
              "    </tr>\n",
              "    <tr>\n",
              "      <th>2019-10</th>\n",
              "      <td>371.188751</td>\n",
              "    </tr>\n",
              "    <tr>\n",
              "      <th>2019-11</th>\n",
              "      <td>388.067150</td>\n",
              "    </tr>\n",
              "    <tr>\n",
              "      <th>2019-12</th>\n",
              "      <td>316.343059</td>\n",
              "    </tr>\n",
              "  </tbody>\n",
              "</table>\n",
              "</div>\n",
              "      <button class=\"colab-df-convert\" onclick=\"convertToInteractive('df-a8ba9291-97fc-4448-afdd-6adf302b550f')\"\n",
              "              title=\"Convert this dataframe to an interactive table.\"\n",
              "              style=\"display:none;\">\n",
              "        \n",
              "  <svg xmlns=\"http://www.w3.org/2000/svg\" height=\"24px\"viewBox=\"0 0 24 24\"\n",
              "       width=\"24px\">\n",
              "    <path d=\"M0 0h24v24H0V0z\" fill=\"none\"/>\n",
              "    <path d=\"M18.56 5.44l.94 2.06.94-2.06 2.06-.94-2.06-.94-.94-2.06-.94 2.06-2.06.94zm-11 1L8.5 8.5l.94-2.06 2.06-.94-2.06-.94L8.5 2.5l-.94 2.06-2.06.94zm10 10l.94 2.06.94-2.06 2.06-.94-2.06-.94-.94-2.06-.94 2.06-2.06.94z\"/><path d=\"M17.41 7.96l-1.37-1.37c-.4-.4-.92-.59-1.43-.59-.52 0-1.04.2-1.43.59L10.3 9.45l-7.72 7.72c-.78.78-.78 2.05 0 2.83L4 21.41c.39.39.9.59 1.41.59.51 0 1.02-.2 1.41-.59l7.78-7.78 2.81-2.81c.8-.78.8-2.07 0-2.86zM5.41 20L4 18.59l7.72-7.72 1.47 1.35L5.41 20z\"/>\n",
              "  </svg>\n",
              "      </button>\n",
              "      \n",
              "  <style>\n",
              "    .colab-df-container {\n",
              "      display:flex;\n",
              "      flex-wrap:wrap;\n",
              "      gap: 12px;\n",
              "    }\n",
              "\n",
              "    .colab-df-convert {\n",
              "      background-color: #E8F0FE;\n",
              "      border: none;\n",
              "      border-radius: 50%;\n",
              "      cursor: pointer;\n",
              "      display: none;\n",
              "      fill: #1967D2;\n",
              "      height: 32px;\n",
              "      padding: 0 0 0 0;\n",
              "      width: 32px;\n",
              "    }\n",
              "\n",
              "    .colab-df-convert:hover {\n",
              "      background-color: #E2EBFA;\n",
              "      box-shadow: 0px 1px 2px rgba(60, 64, 67, 0.3), 0px 1px 3px 1px rgba(60, 64, 67, 0.15);\n",
              "      fill: #174EA6;\n",
              "    }\n",
              "\n",
              "    [theme=dark] .colab-df-convert {\n",
              "      background-color: #3B4455;\n",
              "      fill: #D2E3FC;\n",
              "    }\n",
              "\n",
              "    [theme=dark] .colab-df-convert:hover {\n",
              "      background-color: #434B5C;\n",
              "      box-shadow: 0px 1px 3px 1px rgba(0, 0, 0, 0.15);\n",
              "      filter: drop-shadow(0px 1px 2px rgba(0, 0, 0, 0.3));\n",
              "      fill: #FFFFFF;\n",
              "    }\n",
              "  </style>\n",
              "\n",
              "      <script>\n",
              "        const buttonEl =\n",
              "          document.querySelector('#df-a8ba9291-97fc-4448-afdd-6adf302b550f button.colab-df-convert');\n",
              "        buttonEl.style.display =\n",
              "          google.colab.kernel.accessAllowed ? 'block' : 'none';\n",
              "\n",
              "        async function convertToInteractive(key) {\n",
              "          const element = document.querySelector('#df-a8ba9291-97fc-4448-afdd-6adf302b550f');\n",
              "          const dataTable =\n",
              "            await google.colab.kernel.invokeFunction('convertToInteractive',\n",
              "                                                     [key], {});\n",
              "          if (!dataTable) return;\n",
              "\n",
              "          const docLinkHtml = 'Like what you see? Visit the ' +\n",
              "            '<a target=\"_blank\" href=https://colab.research.google.com/notebooks/data_table.ipynb>data table notebook</a>'\n",
              "            + ' to learn more about interactive tables.';\n",
              "          element.innerHTML = '';\n",
              "          dataTable['output_type'] = 'display_data';\n",
              "          await google.colab.output.renderOutput(dataTable, element);\n",
              "          const docLink = document.createElement('div');\n",
              "          docLink.innerHTML = docLinkHtml;\n",
              "          element.appendChild(docLink);\n",
              "        }\n",
              "      </script>\n",
              "    </div>\n",
              "  </div>\n",
              "  "
            ]
          },
          "metadata": {},
          "execution_count": 18
        }
      ]
    },
    {
      "cell_type": "code",
      "source": [
        "plot_series(data_train, ETS_pred, data_test, labels=[\"Matlab\", \"Matlab ETS Forecast\", \"Matlab Real\"])"
      ],
      "metadata": {
        "id": "XfQ4GQGRmWeB",
        "colab": {
          "base_uri": "https://localhost:8080/",
          "height": 288
        },
        "outputId": "d0a42884-3cd1-4018-a680-0d1fbb82b7d8"
      },
      "execution_count": 20,
      "outputs": [
        {
          "output_type": "execute_result",
          "data": {
            "text/plain": [
              "(<Figure size 1152x288 with 1 Axes>, <AxesSubplot:>)"
            ]
          },
          "metadata": {},
          "execution_count": 20
        },
        {
          "output_type": "display_data",
          "data": {
            "text/plain": [
              "<Figure size 1152x288 with 1 Axes>"
            ],
            "image/png": "[encoded data removed]"
          },
          "metadata": {}
        }
      ]
    },
    {
      "cell_type": "code",
      "source": [
        "df_matlab_ints = autoETS_model.predict_interval(fh, coverage=0.9)\n",
        "df_matlab_ints"
      ],
      "metadata": {
        "colab": {
          "base_uri": "https://localhost:8080/",
          "height": 300
        },
        "id": "klGnBot9jdz-",
        "outputId": "81b3932b-2ea5-43f5-bfce-15e766886e65"
      },
      "execution_count": 19,
      "outputs": [
        {
          "output_type": "execute_result",
          "data": {
            "text/plain": [
              "           Coverage            \n",
              "                0.9            \n",
              "              lower       upper\n",
              "2019-07  270.748903  416.535982\n",
              "2019-08  222.989373  405.499276\n",
              "2019-09  207.586540  431.084895\n",
              "2019-10  224.868792  531.952444\n",
              "2019-11  219.640232  597.624671\n",
              "2019-12  169.733348  517.003629"
            ],
            "text/html": [
              "\n",
              "  <div id=\"df-56ec244e-f41b-4f70-af2a-a872650dd699\">\n",
              "    <div class=\"colab-df-container\">\n",
              "      <div>\n",
              "<style scoped>\n",
              "    .dataframe tbody tr th:only-of-type {\n",
              "        vertical-align: middle;\n",
              "    }\n",
              "\n",
              "    .dataframe tbody tr th {\n",
              "        vertical-align: top;\n",
              "    }\n",
              "\n",
              "    .dataframe thead tr th {\n",
              "        text-align: left;\n",
              "    }\n",
              "</style>\n",
              "<table border=\"1\" class=\"dataframe\">\n",
              "  <thead>\n",
              "    <tr>\n",
              "      <th></th>\n",
              "      <th colspan=\"2\" halign=\"left\">Coverage</th>\n",
              "    </tr>\n",
              "    <tr>\n",
              "      <th></th>\n",
              "      <th colspan=\"2\" halign=\"left\">0.9</th>\n",
              "    </tr>\n",
              "    <tr>\n",
              "      <th></th>\n",
              "      <th>lower</th>\n",
              "      <th>upper</th>\n",
              "    </tr>\n",
              "  </thead>\n",
              "  <tbody>\n",
              "    <tr>\n",
              "      <th>2019-07</th>\n",
              "      <td>270.748903</td>\n",
              "      <td>416.535982</td>\n",
              "    </tr>\n",
              "    <tr>\n",
              "      <th>2019-08</th>\n",
              "      <td>222.989373</td>\n",
              "      <td>405.499276</td>\n",
              "    </tr>\n",
              "    <tr>\n",
              "      <th>2019-09</th>\n",
              "      <td>207.586540</td>\n",
              "      <td>431.084895</td>\n",
              "    </tr>\n",
              "    <tr>\n",
              "      <th>2019-10</th>\n",
              "      <td>224.868792</td>\n",
              "      <td>531.952444</td>\n",
              "    </tr>\n",
              "    <tr>\n",
              "      <th>2019-11</th>\n",
              "      <td>219.640232</td>\n",
              "      <td>597.624671</td>\n",
              "    </tr>\n",
              "    <tr>\n",
              "      <th>2019-12</th>\n",
              "      <td>169.733348</td>\n",
              "      <td>517.003629</td>\n",
              "    </tr>\n",
              "  </tbody>\n",
              "</table>\n",
              "</div>\n",
              "      <button class=\"colab-df-convert\" onclick=\"convertToInteractive('df-56ec244e-f41b-4f70-af2a-a872650dd699')\"\n",
              "              title=\"Convert this dataframe to an interactive table.\"\n",
              "              style=\"display:none;\">\n",
              "        \n",
              "  <svg xmlns=\"http://www.w3.org/2000/svg\" height=\"24px\"viewBox=\"0 0 24 24\"\n",
              "       width=\"24px\">\n",
              "    <path d=\"M0 0h24v24H0V0z\" fill=\"none\"/>\n",
              "    <path d=\"M18.56 5.44l.94 2.06.94-2.06 2.06-.94-2.06-.94-.94-2.06-.94 2.06-2.06.94zm-11 1L8.5 8.5l.94-2.06 2.06-.94-2.06-.94L8.5 2.5l-.94 2.06-2.06.94zm10 10l.94 2.06.94-2.06 2.06-.94-2.06-.94-.94-2.06-.94 2.06-2.06.94z\"/><path d=\"M17.41 7.96l-1.37-1.37c-.4-.4-.92-.59-1.43-.59-.52 0-1.04.2-1.43.59L10.3 9.45l-7.72 7.72c-.78.78-.78 2.05 0 2.83L4 21.41c.39.39.9.59 1.41.59.51 0 1.02-.2 1.41-.59l7.78-7.78 2.81-2.81c.8-.78.8-2.07 0-2.86zM5.41 20L4 18.59l7.72-7.72 1.47 1.35L5.41 20z\"/>\n",
              "  </svg>\n",
              "      </button>\n",
              "      \n",
              "  <style>\n",
              "    .colab-df-container {\n",
              "      display:flex;\n",
              "      flex-wrap:wrap;\n",
              "      gap: 12px;\n",
              "    }\n",
              "\n",
              "    .colab-df-convert {\n",
              "      background-color: #E8F0FE;\n",
              "      border: none;\n",
              "      border-radius: 50%;\n",
              "      cursor: pointer;\n",
              "      display: none;\n",
              "      fill: #1967D2;\n",
              "      height: 32px;\n",
              "      padding: 0 0 0 0;\n",
              "      width: 32px;\n",
              "    }\n",
              "\n",
              "    .colab-df-convert:hover {\n",
              "      background-color: #E2EBFA;\n",
              "      box-shadow: 0px 1px 2px rgba(60, 64, 67, 0.3), 0px 1px 3px 1px rgba(60, 64, 67, 0.15);\n",
              "      fill: #174EA6;\n",
              "    }\n",
              "\n",
              "    [theme=dark] .colab-df-convert {\n",
              "      background-color: #3B4455;\n",
              "      fill: #D2E3FC;\n",
              "    }\n",
              "\n",
              "    [theme=dark] .colab-df-convert:hover {\n",
              "      background-color: #434B5C;\n",
              "      box-shadow: 0px 1px 3px 1px rgba(0, 0, 0, 0.15);\n",
              "      filter: drop-shadow(0px 1px 2px rgba(0, 0, 0, 0.3));\n",
              "      fill: #FFFFFF;\n",
              "    }\n",
              "  </style>\n",
              "\n",
              "      <script>\n",
              "        const buttonEl =\n",
              "          document.querySelector('#df-56ec244e-f41b-4f70-af2a-a872650dd699 button.colab-df-convert');\n",
              "        buttonEl.style.display =\n",
              "          google.colab.kernel.accessAllowed ? 'block' : 'none';\n",
              "\n",
              "        async function convertToInteractive(key) {\n",
              "          const element = document.querySelector('#df-56ec244e-f41b-4f70-af2a-a872650dd699');\n",
              "          const dataTable =\n",
              "            await google.colab.kernel.invokeFunction('convertToInteractive',\n",
              "                                                     [key], {});\n",
              "          if (!dataTable) return;\n",
              "\n",
              "          const docLinkHtml = 'Like what you see? Visit the ' +\n",
              "            '<a target=\"_blank\" href=https://colab.research.google.com/notebooks/data_table.ipynb>data table notebook</a>'\n",
              "            + ' to learn more about interactive tables.';\n",
              "          element.innerHTML = '';\n",
              "          dataTable['output_type'] = 'display_data';\n",
              "          await google.colab.output.renderOutput(dataTable, element);\n",
              "          const docLink = document.createElement('div');\n",
              "          docLink.innerHTML = docLinkHtml;\n",
              "          element.appendChild(docLink);\n",
              "        }\n",
              "      </script>\n",
              "    </div>\n",
              "  </div>\n",
              "  "
            ]
          },
          "metadata": {},
          "execution_count": 19
        }
      ]
    },
    {
      "cell_type": "code",
      "source": [
        "fig, ax = plot_series(data_train, ETS_pred, data_test, labels=[\"Matlab\", \"Matlab ETS Forecast\", \"Matlab Real\"])\n",
        "ax.fill_between(\n",
        "    ax.get_lines()[-2].get_xdata(),\n",
        "    df_matlab_ints[('Coverage', 0.9, 'lower')],\n",
        "    df_matlab_ints[('Coverage', 0.9, 'upper')],\n",
        "    alpha=0.2,\n",
        "    color=ax.get_lines()[-2].get_c(),\n",
        "    label=f\"90% prediction intervals\",\n",
        ")\n",
        "ax.legend(loc='upper left')"
      ],
      "metadata": {
        "id": "h8kdgLaEjrba",
        "colab": {
          "base_uri": "https://localhost:8080/",
          "height": 288
        },
        "outputId": "6d226875-68a9-4f83-b7a3-19af79cb7fc6"
      },
      "execution_count": 21,
      "outputs": [
        {
          "output_type": "execute_result",
          "data": {
            "text/plain": [
              "<matplotlib.legend.Legend at 0x7f820baa16d0>"
            ]
          },
          "metadata": {},
          "execution_count": 21
        },
        {
          "output_type": "display_data",
          "data": {
            "text/plain": [
              "<Figure size 1152x288 with 1 Axes>"
            ],
            "image/png": "[encoded data removed]"
          },
          "metadata": {}
        }
      ]
    },
    {
      "cell_type": "code",
      "source": [
        "#1. Mean Absolute Percentage Error (MAPE)\n",
        "from sktime.performance_metrics.forecasting import mean_absolute_percentage_error\n",
        "\n",
        "MAPE_ETS = mean_absolute_percentage_error(data_test, ETS_pred[0:6])*100\n",
        "MAPE_ETS"
      ],
      "metadata": {
        "id": "q-5wtFa9vwk2",
        "colab": {
          "base_uri": "https://localhost:8080/"
        },
        "outputId": "62726588-067c-4798-b0ed-53b31e64c4d6"
      },
      "execution_count": 75,
      "outputs": [
        {
          "output_type": "execute_result",
          "data": {
            "text/plain": [
              "16.278756408015795"
            ]
          },
          "metadata": {},
          "execution_count": 75
        }
      ]
    },
    {
      "cell_type": "code",
      "source": [
        "#2. Mean Squared Error (MSE)\n",
        "from sktime.performance_metrics.forecasting import MeanSquaredError\n",
        "mse = MeanSquaredError() \n",
        "MSE_ETS = mse(data_test, ETS_pred[0:6])\n",
        "MSE_ETS"
      ],
      "metadata": {
        "id": "uhoXoyqFvxaP",
        "colab": {
          "base_uri": "https://localhost:8080/"
        },
        "outputId": "56b3948a-3021-4319-f7fe-2cd8b83c4077"
      },
      "execution_count": 83,
      "outputs": [
        {
          "output_type": "execute_result",
          "data": {
            "text/plain": [
              "6673.546147936121"
            ]
          },
          "metadata": {},
          "execution_count": 83
        }
      ]
    },
    {
      "cell_type": "code",
      "source": [
        "#3. Root Mean Square Error (RMSE)\n",
        "rmse = MeanSquaredError(square_root=True)\n",
        "RMSE_ETS = rmse(data_test, ETS_pred[0:6])\n",
        "RMSE_ETS"
      ],
      "metadata": {
        "id": "f1JP3lpZvzyh",
        "colab": {
          "base_uri": "https://localhost:8080/"
        },
        "outputId": "4ea0448d-e37a-4105-ced3-cf44fd82e3a0"
      },
      "execution_count": 82,
      "outputs": [
        {
          "output_type": "execute_result",
          "data": {
            "text/plain": [
              "81.69177527717292"
            ]
          },
          "metadata": {},
          "execution_count": 82
        }
      ]
    },
    {
      "cell_type": "markdown",
      "source": [
        "Estimo el modelo ETS y realizo las predicciones sobre test. Se puede ver como **las predicciones están por debajo de las consultas reales** que se han realizado sobre matlab, aunque se encuentran dentro del intervalo de confianza al 90%. \n",
        "\n",
        "Las mayores diferencias entre las predicciones y los datos reales se producen en octubre y en noviembre.\n",
        "\n",
        "Además, **el MAPE está en torno al 16**%, siendo un porcentaje de error aceptable."
      ],
      "metadata": {
        "id": "QPsfT_Q8D6fv"
      }
    },
    {
      "cell_type": "markdown",
      "source": [
        "## **4. ARIMA**"
      ],
      "metadata": {
        "id": "y8yMglKEdPuy"
      }
    },
    {
      "cell_type": "code",
      "source": [
        "#Transformación de los datos a logaritmos.\n",
        "transformer = LogTransformer()\n",
        "log_df_matlab = transformer.fit_transform(df_matlab)\n",
        "log_df_matlab.tail()"
      ],
      "metadata": {
        "id": "lgOgiQI_mYLq",
        "colab": {
          "base_uri": "https://localhost:8080/",
          "height": 237
        },
        "outputId": "d6363407-6d70-4507-f80a-bdc5d6714cb8"
      },
      "execution_count": 25,
      "outputs": [
        {
          "output_type": "execute_result",
          "data": {
            "text/plain": [
              "           matlab\n",
              "Fecha            \n",
              "2019-08  5.916202\n",
              "2019-09  5.891644\n",
              "2019-10  6.259581\n",
              "2019-11  6.171701\n",
              "2019-12  5.855072"
            ],
            "text/html": [
              "\n",
              "  <div id=\"df-9ee74687-145f-45a4-88fd-dbd171f0e576\">\n",
              "    <div class=\"colab-df-container\">\n",
              "      <div>\n",
              "<style scoped>\n",
              "    .dataframe tbody tr th:only-of-type {\n",
              "        vertical-align: middle;\n",
              "    }\n",
              "\n",
              "    .dataframe tbody tr th {\n",
              "        vertical-align: top;\n",
              "    }\n",
              "\n",
              "    .dataframe thead th {\n",
              "        text-align: right;\n",
              "    }\n",
              "</style>\n",
              "<table border=\"1\" class=\"dataframe\">\n",
              "  <thead>\n",
              "    <tr style=\"text-align: right;\">\n",
              "      <th></th>\n",
              "      <th>matlab</th>\n",
              "    </tr>\n",
              "    <tr>\n",
              "      <th>Fecha</th>\n",
              "      <th></th>\n",
              "    </tr>\n",
              "  </thead>\n",
              "  <tbody>\n",
              "    <tr>\n",
              "      <th>2019-08</th>\n",
              "      <td>5.916202</td>\n",
              "    </tr>\n",
              "    <tr>\n",
              "      <th>2019-09</th>\n",
              "      <td>5.891644</td>\n",
              "    </tr>\n",
              "    <tr>\n",
              "      <th>2019-10</th>\n",
              "      <td>6.259581</td>\n",
              "    </tr>\n",
              "    <tr>\n",
              "      <th>2019-11</th>\n",
              "      <td>6.171701</td>\n",
              "    </tr>\n",
              "    <tr>\n",
              "      <th>2019-12</th>\n",
              "      <td>5.855072</td>\n",
              "    </tr>\n",
              "  </tbody>\n",
              "</table>\n",
              "</div>\n",
              "      <button class=\"colab-df-convert\" onclick=\"convertToInteractive('df-9ee74687-145f-45a4-88fd-dbd171f0e576')\"\n",
              "              title=\"Convert this dataframe to an interactive table.\"\n",
              "              style=\"display:none;\">\n",
              "        \n",
              "  <svg xmlns=\"http://www.w3.org/2000/svg\" height=\"24px\"viewBox=\"0 0 24 24\"\n",
              "       width=\"24px\">\n",
              "    <path d=\"M0 0h24v24H0V0z\" fill=\"none\"/>\n",
              "    <path d=\"M18.56 5.44l.94 2.06.94-2.06 2.06-.94-2.06-.94-.94-2.06-.94 2.06-2.06.94zm-11 1L8.5 8.5l.94-2.06 2.06-.94-2.06-.94L8.5 2.5l-.94 2.06-2.06.94zm10 10l.94 2.06.94-2.06 2.06-.94-2.06-.94-.94-2.06-.94 2.06-2.06.94z\"/><path d=\"M17.41 7.96l-1.37-1.37c-.4-.4-.92-.59-1.43-.59-.52 0-1.04.2-1.43.59L10.3 9.45l-7.72 7.72c-.78.78-.78 2.05 0 2.83L4 21.41c.39.39.9.59 1.41.59.51 0 1.02-.2 1.41-.59l7.78-7.78 2.81-2.81c.8-.78.8-2.07 0-2.86zM5.41 20L4 18.59l7.72-7.72 1.47 1.35L5.41 20z\"/>\n",
              "  </svg>\n",
              "      </button>\n",
              "      \n",
              "  <style>\n",
              "    .colab-df-container {\n",
              "      display:flex;\n",
              "      flex-wrap:wrap;\n",
              "      gap: 12px;\n",
              "    }\n",
              "\n",
              "    .colab-df-convert {\n",
              "      background-color: #E8F0FE;\n",
              "      border: none;\n",
              "      border-radius: 50%;\n",
              "      cursor: pointer;\n",
              "      display: none;\n",
              "      fill: #1967D2;\n",
              "      height: 32px;\n",
              "      padding: 0 0 0 0;\n",
              "      width: 32px;\n",
              "    }\n",
              "\n",
              "    .colab-df-convert:hover {\n",
              "      background-color: #E2EBFA;\n",
              "      box-shadow: 0px 1px 2px rgba(60, 64, 67, 0.3), 0px 1px 3px 1px rgba(60, 64, 67, 0.15);\n",
              "      fill: #174EA6;\n",
              "    }\n",
              "\n",
              "    [theme=dark] .colab-df-convert {\n",
              "      background-color: #3B4455;\n",
              "      fill: #D2E3FC;\n",
              "    }\n",
              "\n",
              "    [theme=dark] .colab-df-convert:hover {\n",
              "      background-color: #434B5C;\n",
              "      box-shadow: 0px 1px 3px 1px rgba(0, 0, 0, 0.15);\n",
              "      filter: drop-shadow(0px 1px 2px rgba(0, 0, 0, 0.3));\n",
              "      fill: #FFFFFF;\n",
              "    }\n",
              "  </style>\n",
              "\n",
              "      <script>\n",
              "        const buttonEl =\n",
              "          document.querySelector('#df-9ee74687-145f-45a4-88fd-dbd171f0e576 button.colab-df-convert');\n",
              "        buttonEl.style.display =\n",
              "          google.colab.kernel.accessAllowed ? 'block' : 'none';\n",
              "\n",
              "        async function convertToInteractive(key) {\n",
              "          const element = document.querySelector('#df-9ee74687-145f-45a4-88fd-dbd171f0e576');\n",
              "          const dataTable =\n",
              "            await google.colab.kernel.invokeFunction('convertToInteractive',\n",
              "                                                     [key], {});\n",
              "          if (!dataTable) return;\n",
              "\n",
              "          const docLinkHtml = 'Like what you see? Visit the ' +\n",
              "            '<a target=\"_blank\" href=https://colab.research.google.com/notebooks/data_table.ipynb>data table notebook</a>'\n",
              "            + ' to learn more about interactive tables.';\n",
              "          element.innerHTML = '';\n",
              "          dataTable['output_type'] = 'display_data';\n",
              "          await google.colab.output.renderOutput(dataTable, element);\n",
              "          const docLink = document.createElement('div');\n",
              "          docLink.innerHTML = docLinkHtml;\n",
              "          element.appendChild(docLink);\n",
              "        }\n",
              "      </script>\n",
              "    </div>\n",
              "  </div>\n",
              "  "
            ]
          },
          "metadata": {},
          "execution_count": 25
        }
      ]
    },
    {
      "cell_type": "code",
      "source": [
        "#Comparación gráfico con datos originales vs gráfico con datos transformados a logaritmos.\n",
        "fig, ax = plot_series(df_matlab, labels = [\"Matlab\"])\n",
        "ax.set_title('Consultas Matlab: Serie Original')\n",
        "fig, ax = plot_series(log_df_matlab, labels = [\"Log Matlab\"])\n",
        "ax.set_title('Consultas Matlab: Transformación LOG')"
      ],
      "metadata": {
        "colab": {
          "base_uri": "https://localhost:8080/",
          "height": 569
        },
        "id": "pnY1wcYtZAg6",
        "outputId": "8eda4ca9-532c-4c35-8656-2a581bb214db"
      },
      "execution_count": 26,
      "outputs": [
        {
          "output_type": "execute_result",
          "data": {
            "text/plain": [
              "Text(0.5, 1.0, 'Consultas Matlab: Transformación LOG')"
            ]
          },
          "metadata": {},
          "execution_count": 26
        },
        {
          "output_type": "display_data",
          "data": {
            "text/plain": [
              "<Figure size 1152x288 with 1 Axes>"
            ],
            "image/png": "[encoded data removed]"
          },
          "metadata": {}
        },
        {
          "output_type": "display_data",
          "data": {
            "text/plain": [
              "<Figure size 1152x288 with 1 Axes>"
            ],
            "image/png": "[encoded data removed]"
          },
          "metadata": {}
        }
      ]
    },
    {
      "cell_type": "code",
      "source": [
        "#log train desde 2009-01 hasta 2019-06\n",
        "#log test desde 2019-07 hasta 2019-12\n",
        "\n",
        "log_data_train = log_df_matlab['2009-01':'2019-06']\n",
        "log_data_test = log_df_matlab['2019-07':'2019-12']\n",
        "\n",
        "#Plot data \n",
        "log_data_train['matlab'].plot(legend=True,label='log_data_train',marker='o')\n",
        "log_data_test['matlab'].plot(legend=True,label='log_data_test',marker='o');"
      ],
      "metadata": {
        "colab": {
          "base_uri": "https://localhost:8080/",
          "height": 268
        },
        "id": "7NVNmbm8bm5v",
        "outputId": "3b06f414-a387-4b7a-d2df-db05bdabf86a"
      },
      "execution_count": 27,
      "outputs": [
        {
          "output_type": "display_data",
          "data": {
            "text/plain": [
              "<Figure size 792x288 with 1 Axes>"
            ],
            "image/png": "[encoded data removed]"
          },
          "metadata": {}
        }
      ]
    },
    {
      "cell_type": "code",
      "source": [
        "fh2 = np.arange(1, 7) \n",
        "\n",
        "ARIMA_model = AutoARIMA(sp = 12,suppress_warnings = True)"
      ],
      "metadata": {
        "id": "60BZCUkFZu3U"
      },
      "execution_count": 28,
      "outputs": []
    },
    {
      "cell_type": "code",
      "source": [
        "ARIMA_model.fit(log_data_train)"
      ],
      "metadata": {
        "colab": {
          "base_uri": "https://localhost:8080/"
        },
        "id": "rT4in5wyZ3rz",
        "outputId": "b4f7c386-74e1-4c62-c8d9-995f47008954"
      },
      "execution_count": 29,
      "outputs": [
        {
          "output_type": "execute_result",
          "data": {
            "text/plain": [
              "AutoARIMA(sp=12, suppress_warnings=True)"
            ]
          },
          "metadata": {},
          "execution_count": 29
        }
      ]
    },
    {
      "cell_type": "code",
      "source": [
        "print(ARIMA_model.summary())"
      ],
      "metadata": {
        "colab": {
          "base_uri": "https://localhost:8080/"
        },
        "id": "bHNhcNWmZ2UM",
        "outputId": "6dcad327-c4b2-4425-d4de-9d82cf416d25"
      },
      "execution_count": 30,
      "outputs": [
        {
          "output_type": "stream",
          "name": "stdout",
          "text": [
            "                                     SARIMAX Results                                      \n",
            "==========================================================================================\n",
            "Dep. Variable:                                  y   No. Observations:                  126\n",
            "Model:             SARIMAX(4, 2, 1)x(1, 0, 1, 12)   Log Likelihood                  71.666\n",
            "Date:                            Sun, 27 Nov 2022   AIC                           -127.332\n",
            "Time:                                    16:30:40   BIC                           -104.770\n",
            "Sample:                                01-31-2009   HQIC                          -118.167\n",
            "                                     - 06-30-2019                                         \n",
            "Covariance Type:                              opg                                         \n",
            "==============================================================================\n",
            "                 coef    std err          z      P>|z|      [0.025      0.975]\n",
            "------------------------------------------------------------------------------\n",
            "ar.L1         -0.1666      0.088     -1.904      0.057      -0.338       0.005\n",
            "ar.L2         -0.2628      0.077     -3.406      0.001      -0.414      -0.112\n",
            "ar.L3         -0.1702      0.080     -2.126      0.033      -0.327      -0.013\n",
            "ar.L4         -0.2180      0.083     -2.617      0.009      -0.381      -0.055\n",
            "ma.L1         -0.9387      0.025    -37.836      0.000      -0.987      -0.890\n",
            "ar.S.L12       0.9595      0.058     16.411      0.000       0.845       1.074\n",
            "ma.S.L12      -0.7606      0.175     -4.349      0.000      -1.103      -0.418\n",
            "sigma2         0.0167      0.003      6.504      0.000       0.012       0.022\n",
            "===================================================================================\n",
            "Ljung-Box (L1) (Q):                   0.01   Jarque-Bera (JB):                 1.07\n",
            "Prob(Q):                              0.93   Prob(JB):                         0.58\n",
            "Heteroskedasticity (H):               0.31   Skew:                             0.01\n",
            "Prob(H) (two-sided):                  0.00   Kurtosis:                         3.46\n",
            "===================================================================================\n",
            "\n",
            "Warnings:\n",
            "[1] Covariance matrix calculated using the outer product of gradients (complex-step).\n"
          ]
        }
      ]
    },
    {
      "cell_type": "code",
      "source": [
        "log_data_pred = ARIMA_model.predict(fh2)\n",
        "log_data_pred"
      ],
      "metadata": {
        "colab": {
          "base_uri": "https://localhost:8080/",
          "height": 237
        },
        "id": "FjWHWaDjZ5J1",
        "outputId": "762f7ca3-46a5-42e5-de33-deaf4158a82a"
      },
      "execution_count": 31,
      "outputs": [
        {
          "output_type": "execute_result",
          "data": {
            "text/plain": [
              "           matlab\n",
              "2019-07  5.795640\n",
              "2019-08  5.712010\n",
              "2019-09  5.684548\n",
              "2019-10  5.813455\n",
              "2019-11  5.786271\n",
              "2019-12  5.563554"
            ],
            "text/html": [
              "\n",
              "  <div id=\"df-5b9a36e0-0a42-4183-9850-78d3c904e563\">\n",
              "    <div class=\"colab-df-container\">\n",
              "      <div>\n",
              "<style scoped>\n",
              "    .dataframe tbody tr th:only-of-type {\n",
              "        vertical-align: middle;\n",
              "    }\n",
              "\n",
              "    .dataframe tbody tr th {\n",
              "        vertical-align: top;\n",
              "    }\n",
              "\n",
              "    .dataframe thead th {\n",
              "        text-align: right;\n",
              "    }\n",
              "</style>\n",
              "<table border=\"1\" class=\"dataframe\">\n",
              "  <thead>\n",
              "    <tr style=\"text-align: right;\">\n",
              "      <th></th>\n",
              "      <th>matlab</th>\n",
              "    </tr>\n",
              "  </thead>\n",
              "  <tbody>\n",
              "    <tr>\n",
              "      <th>2019-07</th>\n",
              "      <td>5.795640</td>\n",
              "    </tr>\n",
              "    <tr>\n",
              "      <th>2019-08</th>\n",
              "      <td>5.712010</td>\n",
              "    </tr>\n",
              "    <tr>\n",
              "      <th>2019-09</th>\n",
              "      <td>5.684548</td>\n",
              "    </tr>\n",
              "    <tr>\n",
              "      <th>2019-10</th>\n",
              "      <td>5.813455</td>\n",
              "    </tr>\n",
              "    <tr>\n",
              "      <th>2019-11</th>\n",
              "      <td>5.786271</td>\n",
              "    </tr>\n",
              "    <tr>\n",
              "      <th>2019-12</th>\n",
              "      <td>5.563554</td>\n",
              "    </tr>\n",
              "  </tbody>\n",
              "</table>\n",
              "</div>\n",
              "      <button class=\"colab-df-convert\" onclick=\"convertToInteractive('df-5b9a36e0-0a42-4183-9850-78d3c904e563')\"\n",
              "              title=\"Convert this dataframe to an interactive table.\"\n",
              "              style=\"display:none;\">\n",
              "        \n",
              "  <svg xmlns=\"http://www.w3.org/2000/svg\" height=\"24px\"viewBox=\"0 0 24 24\"\n",
              "       width=\"24px\">\n",
              "    <path d=\"M0 0h24v24H0V0z\" fill=\"none\"/>\n",
              "    <path d=\"M18.56 5.44l.94 2.06.94-2.06 2.06-.94-2.06-.94-.94-2.06-.94 2.06-2.06.94zm-11 1L8.5 8.5l.94-2.06 2.06-.94-2.06-.94L8.5 2.5l-.94 2.06-2.06.94zm10 10l.94 2.06.94-2.06 2.06-.94-2.06-.94-.94-2.06-.94 2.06-2.06.94z\"/><path d=\"M17.41 7.96l-1.37-1.37c-.4-.4-.92-.59-1.43-.59-.52 0-1.04.2-1.43.59L10.3 9.45l-7.72 7.72c-.78.78-.78 2.05 0 2.83L4 21.41c.39.39.9.59 1.41.59.51 0 1.02-.2 1.41-.59l7.78-7.78 2.81-2.81c.8-.78.8-2.07 0-2.86zM5.41 20L4 18.59l7.72-7.72 1.47 1.35L5.41 20z\"/>\n",
              "  </svg>\n",
              "      </button>\n",
              "      \n",
              "  <style>\n",
              "    .colab-df-container {\n",
              "      display:flex;\n",
              "      flex-wrap:wrap;\n",
              "      gap: 12px;\n",
              "    }\n",
              "\n",
              "    .colab-df-convert {\n",
              "      background-color: #E8F0FE;\n",
              "      border: none;\n",
              "      border-radius: 50%;\n",
              "      cursor: pointer;\n",
              "      display: none;\n",
              "      fill: #1967D2;\n",
              "      height: 32px;\n",
              "      padding: 0 0 0 0;\n",
              "      width: 32px;\n",
              "    }\n",
              "\n",
              "    .colab-df-convert:hover {\n",
              "      background-color: #E2EBFA;\n",
              "      box-shadow: 0px 1px 2px rgba(60, 64, 67, 0.3), 0px 1px 3px 1px rgba(60, 64, 67, 0.15);\n",
              "      fill: #174EA6;\n",
              "    }\n",
              "\n",
              "    [theme=dark] .colab-df-convert {\n",
              "      background-color: #3B4455;\n",
              "      fill: #D2E3FC;\n",
              "    }\n",
              "\n",
              "    [theme=dark] .colab-df-convert:hover {\n",
              "      background-color: #434B5C;\n",
              "      box-shadow: 0px 1px 3px 1px rgba(0, 0, 0, 0.15);\n",
              "      filter: drop-shadow(0px 1px 2px rgba(0, 0, 0, 0.3));\n",
              "      fill: #FFFFFF;\n",
              "    }\n",
              "  </style>\n",
              "\n",
              "      <script>\n",
              "        const buttonEl =\n",
              "          document.querySelector('#df-5b9a36e0-0a42-4183-9850-78d3c904e563 button.colab-df-convert');\n",
              "        buttonEl.style.display =\n",
              "          google.colab.kernel.accessAllowed ? 'block' : 'none';\n",
              "\n",
              "        async function convertToInteractive(key) {\n",
              "          const element = document.querySelector('#df-5b9a36e0-0a42-4183-9850-78d3c904e563');\n",
              "          const dataTable =\n",
              "            await google.colab.kernel.invokeFunction('convertToInteractive',\n",
              "                                                     [key], {});\n",
              "          if (!dataTable) return;\n",
              "\n",
              "          const docLinkHtml = 'Like what you see? Visit the ' +\n",
              "            '<a target=\"_blank\" href=https://colab.research.google.com/notebooks/data_table.ipynb>data table notebook</a>'\n",
              "            + ' to learn more about interactive tables.';\n",
              "          element.innerHTML = '';\n",
              "          dataTable['output_type'] = 'display_data';\n",
              "          await google.colab.output.renderOutput(dataTable, element);\n",
              "          const docLink = document.createElement('div');\n",
              "          docLink.innerHTML = docLinkHtml;\n",
              "          element.appendChild(docLink);\n",
              "        }\n",
              "      </script>\n",
              "    </div>\n",
              "  </div>\n",
              "  "
            ]
          },
          "metadata": {},
          "execution_count": 31
        }
      ]
    },
    {
      "cell_type": "code",
      "source": [
        "np.exp(log_data_pred)"
      ],
      "metadata": {
        "colab": {
          "base_uri": "https://localhost:8080/",
          "height": 237
        },
        "id": "GeMo8ppNaGux",
        "outputId": "9de563ca-67b5-45b6-c018-3972e419acaf"
      },
      "execution_count": 32,
      "outputs": [
        {
          "output_type": "execute_result",
          "data": {
            "text/plain": [
              "             matlab\n",
              "2019-07  328.862679\n",
              "2019-08  302.478543\n",
              "2019-09  294.284706\n",
              "2019-10  334.773751\n",
              "2019-11  325.796010\n",
              "2019-12  260.747784"
            ],
            "text/html": [
              "\n",
              "  <div id=\"df-bb9ff9bc-1ffa-4a66-9342-d62757423015\">\n",
              "    <div class=\"colab-df-container\">\n",
              "      <div>\n",
              "<style scoped>\n",
              "    .dataframe tbody tr th:only-of-type {\n",
              "        vertical-align: middle;\n",
              "    }\n",
              "\n",
              "    .dataframe tbody tr th {\n",
              "        vertical-align: top;\n",
              "    }\n",
              "\n",
              "    .dataframe thead th {\n",
              "        text-align: right;\n",
              "    }\n",
              "</style>\n",
              "<table border=\"1\" class=\"dataframe\">\n",
              "  <thead>\n",
              "    <tr style=\"text-align: right;\">\n",
              "      <th></th>\n",
              "      <th>matlab</th>\n",
              "    </tr>\n",
              "  </thead>\n",
              "  <tbody>\n",
              "    <tr>\n",
              "      <th>2019-07</th>\n",
              "      <td>328.862679</td>\n",
              "    </tr>\n",
              "    <tr>\n",
              "      <th>2019-08</th>\n",
              "      <td>302.478543</td>\n",
              "    </tr>\n",
              "    <tr>\n",
              "      <th>2019-09</th>\n",
              "      <td>294.284706</td>\n",
              "    </tr>\n",
              "    <tr>\n",
              "      <th>2019-10</th>\n",
              "      <td>334.773751</td>\n",
              "    </tr>\n",
              "    <tr>\n",
              "      <th>2019-11</th>\n",
              "      <td>325.796010</td>\n",
              "    </tr>\n",
              "    <tr>\n",
              "      <th>2019-12</th>\n",
              "      <td>260.747784</td>\n",
              "    </tr>\n",
              "  </tbody>\n",
              "</table>\n",
              "</div>\n",
              "      <button class=\"colab-df-convert\" onclick=\"convertToInteractive('df-bb9ff9bc-1ffa-4a66-9342-d62757423015')\"\n",
              "              title=\"Convert this dataframe to an interactive table.\"\n",
              "              style=\"display:none;\">\n",
              "        \n",
              "  <svg xmlns=\"http://www.w3.org/2000/svg\" height=\"24px\"viewBox=\"0 0 24 24\"\n",
              "       width=\"24px\">\n",
              "    <path d=\"M0 0h24v24H0V0z\" fill=\"none\"/>\n",
              "    <path d=\"M18.56 5.44l.94 2.06.94-2.06 2.06-.94-2.06-.94-.94-2.06-.94 2.06-2.06.94zm-11 1L8.5 8.5l.94-2.06 2.06-.94-2.06-.94L8.5 2.5l-.94 2.06-2.06.94zm10 10l.94 2.06.94-2.06 2.06-.94-2.06-.94-.94-2.06-.94 2.06-2.06.94z\"/><path d=\"M17.41 7.96l-1.37-1.37c-.4-.4-.92-.59-1.43-.59-.52 0-1.04.2-1.43.59L10.3 9.45l-7.72 7.72c-.78.78-.78 2.05 0 2.83L4 21.41c.39.39.9.59 1.41.59.51 0 1.02-.2 1.41-.59l7.78-7.78 2.81-2.81c.8-.78.8-2.07 0-2.86zM5.41 20L4 18.59l7.72-7.72 1.47 1.35L5.41 20z\"/>\n",
              "  </svg>\n",
              "      </button>\n",
              "      \n",
              "  <style>\n",
              "    .colab-df-container {\n",
              "      display:flex;\n",
              "      flex-wrap:wrap;\n",
              "      gap: 12px;\n",
              "    }\n",
              "\n",
              "    .colab-df-convert {\n",
              "      background-color: #E8F0FE;\n",
              "      border: none;\n",
              "      border-radius: 50%;\n",
              "      cursor: pointer;\n",
              "      display: none;\n",
              "      fill: #1967D2;\n",
              "      height: 32px;\n",
              "      padding: 0 0 0 0;\n",
              "      width: 32px;\n",
              "    }\n",
              "\n",
              "    .colab-df-convert:hover {\n",
              "      background-color: #E2EBFA;\n",
              "      box-shadow: 0px 1px 2px rgba(60, 64, 67, 0.3), 0px 1px 3px 1px rgba(60, 64, 67, 0.15);\n",
              "      fill: #174EA6;\n",
              "    }\n",
              "\n",
              "    [theme=dark] .colab-df-convert {\n",
              "      background-color: #3B4455;\n",
              "      fill: #D2E3FC;\n",
              "    }\n",
              "\n",
              "    [theme=dark] .colab-df-convert:hover {\n",
              "      background-color: #434B5C;\n",
              "      box-shadow: 0px 1px 3px 1px rgba(0, 0, 0, 0.15);\n",
              "      filter: drop-shadow(0px 1px 2px rgba(0, 0, 0, 0.3));\n",
              "      fill: #FFFFFF;\n",
              "    }\n",
              "  </style>\n",
              "\n",
              "      <script>\n",
              "        const buttonEl =\n",
              "          document.querySelector('#df-bb9ff9bc-1ffa-4a66-9342-d62757423015 button.colab-df-convert');\n",
              "        buttonEl.style.display =\n",
              "          google.colab.kernel.accessAllowed ? 'block' : 'none';\n",
              "\n",
              "        async function convertToInteractive(key) {\n",
              "          const element = document.querySelector('#df-bb9ff9bc-1ffa-4a66-9342-d62757423015');\n",
              "          const dataTable =\n",
              "            await google.colab.kernel.invokeFunction('convertToInteractive',\n",
              "                                                     [key], {});\n",
              "          if (!dataTable) return;\n",
              "\n",
              "          const docLinkHtml = 'Like what you see? Visit the ' +\n",
              "            '<a target=\"_blank\" href=https://colab.research.google.com/notebooks/data_table.ipynb>data table notebook</a>'\n",
              "            + ' to learn more about interactive tables.';\n",
              "          element.innerHTML = '';\n",
              "          dataTable['output_type'] = 'display_data';\n",
              "          await google.colab.output.renderOutput(dataTable, element);\n",
              "          const docLink = document.createElement('div');\n",
              "          docLink.innerHTML = docLinkHtml;\n",
              "          element.appendChild(docLink);\n",
              "        }\n",
              "      </script>\n",
              "    </div>\n",
              "  </div>\n",
              "  "
            ]
          },
          "metadata": {},
          "execution_count": 32
        }
      ]
    },
    {
      "cell_type": "code",
      "source": [
        "plot_series(data_train, np.exp(log_data_pred), data_test, labels=[\"Matlab\", \"Matlab ARIMA Forecast\", \"Matlab Real\"])"
      ],
      "metadata": {
        "colab": {
          "base_uri": "https://localhost:8080/",
          "height": 288
        },
        "id": "VPJ_SMqHaJEm",
        "outputId": "aeeb3ed2-de46-454d-d912-4edb9b4d1233"
      },
      "execution_count": 35,
      "outputs": [
        {
          "output_type": "execute_result",
          "data": {
            "text/plain": [
              "(<Figure size 1152x288 with 1 Axes>, <AxesSubplot:>)"
            ]
          },
          "metadata": {},
          "execution_count": 35
        },
        {
          "output_type": "display_data",
          "data": {
            "text/plain": [
              "<Figure size 1152x288 with 1 Axes>"
            ],
            "image/png": "[encoded data removed]"
          },
          "metadata": {}
        }
      ]
    },
    {
      "cell_type": "code",
      "source": [
        "df_matlab_ints2 = ARIMA_model.predict_interval(fh2, coverage=0.9)\n",
        "df_matlab_ints2"
      ],
      "metadata": {
        "colab": {
          "base_uri": "https://localhost:8080/",
          "height": 300
        },
        "id": "cczjaE13lO57",
        "outputId": "80703997-9cbe-4e2e-f0c0-7b9bbaa2e2b8"
      },
      "execution_count": 33,
      "outputs": [
        {
          "output_type": "execute_result",
          "data": {
            "text/plain": [
              "         Coverage          \n",
              "              0.9          \n",
              "            lower     upper\n",
              "2019-07  5.583254  6.008027\n",
              "2019-08  5.426974  5.997047\n",
              "2019-09  5.361947  6.007149\n",
              "2019-10  5.461640  6.165270\n",
              "2019-11  5.413590  6.158953\n",
              "2019-12  5.160610  5.966497"
            ],
            "text/html": [
              "\n",
              "  <div id=\"df-15d187c9-c6f5-4651-a34e-65397d63f843\">\n",
              "    <div class=\"colab-df-container\">\n",
              "      <div>\n",
              "<style scoped>\n",
              "    .dataframe tbody tr th:only-of-type {\n",
              "        vertical-align: middle;\n",
              "    }\n",
              "\n",
              "    .dataframe tbody tr th {\n",
              "        vertical-align: top;\n",
              "    }\n",
              "\n",
              "    .dataframe thead tr th {\n",
              "        text-align: left;\n",
              "    }\n",
              "</style>\n",
              "<table border=\"1\" class=\"dataframe\">\n",
              "  <thead>\n",
              "    <tr>\n",
              "      <th></th>\n",
              "      <th colspan=\"2\" halign=\"left\">Coverage</th>\n",
              "    </tr>\n",
              "    <tr>\n",
              "      <th></th>\n",
              "      <th colspan=\"2\" halign=\"left\">0.9</th>\n",
              "    </tr>\n",
              "    <tr>\n",
              "      <th></th>\n",
              "      <th>lower</th>\n",
              "      <th>upper</th>\n",
              "    </tr>\n",
              "  </thead>\n",
              "  <tbody>\n",
              "    <tr>\n",
              "      <th>2019-07</th>\n",
              "      <td>5.583254</td>\n",
              "      <td>6.008027</td>\n",
              "    </tr>\n",
              "    <tr>\n",
              "      <th>2019-08</th>\n",
              "      <td>5.426974</td>\n",
              "      <td>5.997047</td>\n",
              "    </tr>\n",
              "    <tr>\n",
              "      <th>2019-09</th>\n",
              "      <td>5.361947</td>\n",
              "      <td>6.007149</td>\n",
              "    </tr>\n",
              "    <tr>\n",
              "      <th>2019-10</th>\n",
              "      <td>5.461640</td>\n",
              "      <td>6.165270</td>\n",
              "    </tr>\n",
              "    <tr>\n",
              "      <th>2019-11</th>\n",
              "      <td>5.413590</td>\n",
              "      <td>6.158953</td>\n",
              "    </tr>\n",
              "    <tr>\n",
              "      <th>2019-12</th>\n",
              "      <td>5.160610</td>\n",
              "      <td>5.966497</td>\n",
              "    </tr>\n",
              "  </tbody>\n",
              "</table>\n",
              "</div>\n",
              "      <button class=\"colab-df-convert\" onclick=\"convertToInteractive('df-15d187c9-c6f5-4651-a34e-65397d63f843')\"\n",
              "              title=\"Convert this dataframe to an interactive table.\"\n",
              "              style=\"display:none;\">\n",
              "        \n",
              "  <svg xmlns=\"http://www.w3.org/2000/svg\" height=\"24px\"viewBox=\"0 0 24 24\"\n",
              "       width=\"24px\">\n",
              "    <path d=\"M0 0h24v24H0V0z\" fill=\"none\"/>\n",
              "    <path d=\"M18.56 5.44l.94 2.06.94-2.06 2.06-.94-2.06-.94-.94-2.06-.94 2.06-2.06.94zm-11 1L8.5 8.5l.94-2.06 2.06-.94-2.06-.94L8.5 2.5l-.94 2.06-2.06.94zm10 10l.94 2.06.94-2.06 2.06-.94-2.06-.94-.94-2.06-.94 2.06-2.06.94z\"/><path d=\"M17.41 7.96l-1.37-1.37c-.4-.4-.92-.59-1.43-.59-.52 0-1.04.2-1.43.59L10.3 9.45l-7.72 7.72c-.78.78-.78 2.05 0 2.83L4 21.41c.39.39.9.59 1.41.59.51 0 1.02-.2 1.41-.59l7.78-7.78 2.81-2.81c.8-.78.8-2.07 0-2.86zM5.41 20L4 18.59l7.72-7.72 1.47 1.35L5.41 20z\"/>\n",
              "  </svg>\n",
              "      </button>\n",
              "      \n",
              "  <style>\n",
              "    .colab-df-container {\n",
              "      display:flex;\n",
              "      flex-wrap:wrap;\n",
              "      gap: 12px;\n",
              "    }\n",
              "\n",
              "    .colab-df-convert {\n",
              "      background-color: #E8F0FE;\n",
              "      border: none;\n",
              "      border-radius: 50%;\n",
              "      cursor: pointer;\n",
              "      display: none;\n",
              "      fill: #1967D2;\n",
              "      height: 32px;\n",
              "      padding: 0 0 0 0;\n",
              "      width: 32px;\n",
              "    }\n",
              "\n",
              "    .colab-df-convert:hover {\n",
              "      background-color: #E2EBFA;\n",
              "      box-shadow: 0px 1px 2px rgba(60, 64, 67, 0.3), 0px 1px 3px 1px rgba(60, 64, 67, 0.15);\n",
              "      fill: #174EA6;\n",
              "    }\n",
              "\n",
              "    [theme=dark] .colab-df-convert {\n",
              "      background-color: #3B4455;\n",
              "      fill: #D2E3FC;\n",
              "    }\n",
              "\n",
              "    [theme=dark] .colab-df-convert:hover {\n",
              "      background-color: #434B5C;\n",
              "      box-shadow: 0px 1px 3px 1px rgba(0, 0, 0, 0.15);\n",
              "      filter: drop-shadow(0px 1px 2px rgba(0, 0, 0, 0.3));\n",
              "      fill: #FFFFFF;\n",
              "    }\n",
              "  </style>\n",
              "\n",
              "      <script>\n",
              "        const buttonEl =\n",
              "          document.querySelector('#df-15d187c9-c6f5-4651-a34e-65397d63f843 button.colab-df-convert');\n",
              "        buttonEl.style.display =\n",
              "          google.colab.kernel.accessAllowed ? 'block' : 'none';\n",
              "\n",
              "        async function convertToInteractive(key) {\n",
              "          const element = document.querySelector('#df-15d187c9-c6f5-4651-a34e-65397d63f843');\n",
              "          const dataTable =\n",
              "            await google.colab.kernel.invokeFunction('convertToInteractive',\n",
              "                                                     [key], {});\n",
              "          if (!dataTable) return;\n",
              "\n",
              "          const docLinkHtml = 'Like what you see? Visit the ' +\n",
              "            '<a target=\"_blank\" href=https://colab.research.google.com/notebooks/data_table.ipynb>data table notebook</a>'\n",
              "            + ' to learn more about interactive tables.';\n",
              "          element.innerHTML = '';\n",
              "          dataTable['output_type'] = 'display_data';\n",
              "          await google.colab.output.renderOutput(dataTable, element);\n",
              "          const docLink = document.createElement('div');\n",
              "          docLink.innerHTML = docLinkHtml;\n",
              "          element.appendChild(docLink);\n",
              "        }\n",
              "      </script>\n",
              "    </div>\n",
              "  </div>\n",
              "  "
            ]
          },
          "metadata": {},
          "execution_count": 33
        }
      ]
    },
    {
      "cell_type": "code",
      "source": [
        "np.exp(df_matlab_ints2)"
      ],
      "metadata": {
        "colab": {
          "base_uri": "https://localhost:8080/",
          "height": 300
        },
        "id": "oCqK6yvFufwp",
        "outputId": "4494b1da-f746-4ea0-8349-58e3ef995d24"
      },
      "execution_count": 34,
      "outputs": [
        {
          "output_type": "execute_result",
          "data": {
            "text/plain": [
              "           Coverage            \n",
              "                0.9            \n",
              "              lower       upper\n",
              "2019-07  265.935432  406.680151\n",
              "2019-08  227.459942  402.239041\n",
              "2019-09  213.139482  406.323068\n",
              "2019-10  235.483295  475.929575\n",
              "2019-11  224.435893  472.932556\n",
              "2019-12  174.270713  390.136733"
            ],
            "text/html": [
              "\n",
              "  <div id=\"df-f042121c-367c-4b82-bccb-12230f3c13ff\">\n",
              "    <div class=\"colab-df-container\">\n",
              "      <div>\n",
              "<style scoped>\n",
              "    .dataframe tbody tr th:only-of-type {\n",
              "        vertical-align: middle;\n",
              "    }\n",
              "\n",
              "    .dataframe tbody tr th {\n",
              "        vertical-align: top;\n",
              "    }\n",
              "\n",
              "    .dataframe thead tr th {\n",
              "        text-align: left;\n",
              "    }\n",
              "</style>\n",
              "<table border=\"1\" class=\"dataframe\">\n",
              "  <thead>\n",
              "    <tr>\n",
              "      <th></th>\n",
              "      <th colspan=\"2\" halign=\"left\">Coverage</th>\n",
              "    </tr>\n",
              "    <tr>\n",
              "      <th></th>\n",
              "      <th colspan=\"2\" halign=\"left\">0.9</th>\n",
              "    </tr>\n",
              "    <tr>\n",
              "      <th></th>\n",
              "      <th>lower</th>\n",
              "      <th>upper</th>\n",
              "    </tr>\n",
              "  </thead>\n",
              "  <tbody>\n",
              "    <tr>\n",
              "      <th>2019-07</th>\n",
              "      <td>265.935432</td>\n",
              "      <td>406.680151</td>\n",
              "    </tr>\n",
              "    <tr>\n",
              "      <th>2019-08</th>\n",
              "      <td>227.459942</td>\n",
              "      <td>402.239041</td>\n",
              "    </tr>\n",
              "    <tr>\n",
              "      <th>2019-09</th>\n",
              "      <td>213.139482</td>\n",
              "      <td>406.323068</td>\n",
              "    </tr>\n",
              "    <tr>\n",
              "      <th>2019-10</th>\n",
              "      <td>235.483295</td>\n",
              "      <td>475.929575</td>\n",
              "    </tr>\n",
              "    <tr>\n",
              "      <th>2019-11</th>\n",
              "      <td>224.435893</td>\n",
              "      <td>472.932556</td>\n",
              "    </tr>\n",
              "    <tr>\n",
              "      <th>2019-12</th>\n",
              "      <td>174.270713</td>\n",
              "      <td>390.136733</td>\n",
              "    </tr>\n",
              "  </tbody>\n",
              "</table>\n",
              "</div>\n",
              "      <button class=\"colab-df-convert\" onclick=\"convertToInteractive('df-f042121c-367c-4b82-bccb-12230f3c13ff')\"\n",
              "              title=\"Convert this dataframe to an interactive table.\"\n",
              "              style=\"display:none;\">\n",
              "        \n",
              "  <svg xmlns=\"http://www.w3.org/2000/svg\" height=\"24px\"viewBox=\"0 0 24 24\"\n",
              "       width=\"24px\">\n",
              "    <path d=\"M0 0h24v24H0V0z\" fill=\"none\"/>\n",
              "    <path d=\"M18.56 5.44l.94 2.06.94-2.06 2.06-.94-2.06-.94-.94-2.06-.94 2.06-2.06.94zm-11 1L8.5 8.5l.94-2.06 2.06-.94-2.06-.94L8.5 2.5l-.94 2.06-2.06.94zm10 10l.94 2.06.94-2.06 2.06-.94-2.06-.94-.94-2.06-.94 2.06-2.06.94z\"/><path d=\"M17.41 7.96l-1.37-1.37c-.4-.4-.92-.59-1.43-.59-.52 0-1.04.2-1.43.59L10.3 9.45l-7.72 7.72c-.78.78-.78 2.05 0 2.83L4 21.41c.39.39.9.59 1.41.59.51 0 1.02-.2 1.41-.59l7.78-7.78 2.81-2.81c.8-.78.8-2.07 0-2.86zM5.41 20L4 18.59l7.72-7.72 1.47 1.35L5.41 20z\"/>\n",
              "  </svg>\n",
              "      </button>\n",
              "      \n",
              "  <style>\n",
              "    .colab-df-container {\n",
              "      display:flex;\n",
              "      flex-wrap:wrap;\n",
              "      gap: 12px;\n",
              "    }\n",
              "\n",
              "    .colab-df-convert {\n",
              "      background-color: #E8F0FE;\n",
              "      border: none;\n",
              "      border-radius: 50%;\n",
              "      cursor: pointer;\n",
              "      display: none;\n",
              "      fill: #1967D2;\n",
              "      height: 32px;\n",
              "      padding: 0 0 0 0;\n",
              "      width: 32px;\n",
              "    }\n",
              "\n",
              "    .colab-df-convert:hover {\n",
              "      background-color: #E2EBFA;\n",
              "      box-shadow: 0px 1px 2px rgba(60, 64, 67, 0.3), 0px 1px 3px 1px rgba(60, 64, 67, 0.15);\n",
              "      fill: #174EA6;\n",
              "    }\n",
              "\n",
              "    [theme=dark] .colab-df-convert {\n",
              "      background-color: #3B4455;\n",
              "      fill: #D2E3FC;\n",
              "    }\n",
              "\n",
              "    [theme=dark] .colab-df-convert:hover {\n",
              "      background-color: #434B5C;\n",
              "      box-shadow: 0px 1px 3px 1px rgba(0, 0, 0, 0.15);\n",
              "      filter: drop-shadow(0px 1px 2px rgba(0, 0, 0, 0.3));\n",
              "      fill: #FFFFFF;\n",
              "    }\n",
              "  </style>\n",
              "\n",
              "      <script>\n",
              "        const buttonEl =\n",
              "          document.querySelector('#df-f042121c-367c-4b82-bccb-12230f3c13ff button.colab-df-convert');\n",
              "        buttonEl.style.display =\n",
              "          google.colab.kernel.accessAllowed ? 'block' : 'none';\n",
              "\n",
              "        async function convertToInteractive(key) {\n",
              "          const element = document.querySelector('#df-f042121c-367c-4b82-bccb-12230f3c13ff');\n",
              "          const dataTable =\n",
              "            await google.colab.kernel.invokeFunction('convertToInteractive',\n",
              "                                                     [key], {});\n",
              "          if (!dataTable) return;\n",
              "\n",
              "          const docLinkHtml = 'Like what you see? Visit the ' +\n",
              "            '<a target=\"_blank\" href=https://colab.research.google.com/notebooks/data_table.ipynb>data table notebook</a>'\n",
              "            + ' to learn more about interactive tables.';\n",
              "          element.innerHTML = '';\n",
              "          dataTable['output_type'] = 'display_data';\n",
              "          await google.colab.output.renderOutput(dataTable, element);\n",
              "          const docLink = document.createElement('div');\n",
              "          docLink.innerHTML = docLinkHtml;\n",
              "          element.appendChild(docLink);\n",
              "        }\n",
              "      </script>\n",
              "    </div>\n",
              "  </div>\n",
              "  "
            ]
          },
          "metadata": {},
          "execution_count": 34
        }
      ]
    },
    {
      "cell_type": "code",
      "source": [
        "fig, ax = plot_series(data_train, np.exp(log_data_pred), data_test, labels=[\"Matlab\", \"Matlab ARIMA Forecast\", \"Matlab Real\"])\n",
        "ax.fill_between(\n",
        "    ax.get_lines()[-2].get_xdata(),\n",
        "    np.exp(df_matlab_ints2)[('Coverage', 0.9, 'lower')],\n",
        "    np.exp(df_matlab_ints2)[('Coverage', 0.9, 'upper')],\n",
        "    alpha=0.2,\n",
        "    color=ax.get_lines()[-2].get_c(),\n",
        "    label=f\"90% prediction intervals\",\n",
        ")\n",
        "ax.legend(loc='upper left')"
      ],
      "metadata": {
        "colab": {
          "base_uri": "https://localhost:8080/",
          "height": 288
        },
        "id": "cjDIyNJ37ibR",
        "outputId": "a775e499-6b79-4119-8359-7426e73ee3ef"
      },
      "execution_count": 36,
      "outputs": [
        {
          "output_type": "execute_result",
          "data": {
            "text/plain": [
              "<matplotlib.legend.Legend at 0x7f820b0fc690>"
            ]
          },
          "metadata": {},
          "execution_count": 36
        },
        {
          "output_type": "display_data",
          "data": {
            "text/plain": [
              "<Figure size 1152x288 with 1 Axes>"
            ],
            "image/png": "[encoded data removed]"
          },
          "metadata": {}
        }
      ]
    },
    {
      "cell_type": "code",
      "source": [
        "#1a. Mean Absolute Percentage Error (MAPE)\n",
        "MAPElog_ARIMA = mean_absolute_percentage_error(log_data_test, log_data_pred)\n",
        "MAPElog_ARIMA"
      ],
      "metadata": {
        "colab": {
          "base_uri": "https://localhost:8080/"
        },
        "id": "Ebw3O2GFaJox",
        "outputId": "45d405f1-0661-4535-8241-2af640ad7cec"
      },
      "execution_count": 88,
      "outputs": [
        {
          "output_type": "execute_result",
          "data": {
            "text/plain": [
              "0.9857915096050354"
            ]
          },
          "metadata": {},
          "execution_count": 88
        }
      ]
    },
    {
      "cell_type": "code",
      "source": [
        "#1b. Mean Absolute Percentage Error (MAPE) -> Original Time Serie\n",
        "MAPE_ARIMA = mean_absolute_percentage_error(data_test, np.exp(log_data_pred))*100\n",
        "MAPE_ARIMA"
      ],
      "metadata": {
        "colab": {
          "base_uri": "https://localhost:8080/"
        },
        "id": "x8RI54v_aM5M",
        "outputId": "5efc3421-2358-4d97-da9c-186eab0a9514"
      },
      "execution_count": 76,
      "outputs": [
        {
          "output_type": "execute_result",
          "data": {
            "text/plain": [
              "24.206452411181996"
            ]
          },
          "metadata": {},
          "execution_count": 76
        }
      ]
    },
    {
      "cell_type": "code",
      "source": [
        "#2a. Mean Squared Error (MSE)\n",
        "from sktime.performance_metrics.forecasting import MeanSquaredError\n",
        "mse = MeanSquaredError() \n",
        "MSElog_ARIMA = mse(log_data_test, log_data_pred)\n",
        "MSElog_ARIMA "
      ],
      "metadata": {
        "colab": {
          "base_uri": "https://localhost:8080/"
        },
        "id": "ue7Rnj5xaSiw",
        "outputId": "593a1fed-8871-4c9a-939c-9e04c5ff9d2d"
      },
      "execution_count": 87,
      "outputs": [
        {
          "output_type": "execute_result",
          "data": {
            "text/plain": [
              "169052.18668408997"
            ]
          },
          "metadata": {},
          "execution_count": 87
        }
      ]
    },
    {
      "cell_type": "code",
      "source": [
        "#2b. Mean Squared Error (MSE) -> Original Time Serie\n",
        "from sktime.performance_metrics.forecasting import MeanSquaredError\n",
        "mse = MeanSquaredError() \n",
        "MSE_ARIMA =  mse(data_test, np.exp(log_data_pred))\n",
        "MSE_ARIMA"
      ],
      "metadata": {
        "colab": {
          "base_uri": "https://localhost:8080/"
        },
        "id": "mlhZJ161aUdn",
        "outputId": "b8864d75-7e13-40a0-f62d-04280710b77e"
      },
      "execution_count": 86,
      "outputs": [
        {
          "output_type": "execute_result",
          "data": {
            "text/plain": [
              "13205.710247158706"
            ]
          },
          "metadata": {},
          "execution_count": 86
        }
      ]
    },
    {
      "cell_type": "code",
      "source": [
        "#3a. Root Mean Square Error (RMSE)\n",
        "rmse = MeanSquaredError(square_root=True)\n",
        "RMSElog_ARIMA = rmse(log_data_test, log_data_pred)\n",
        "RMSElog_ARIMA"
      ],
      "metadata": {
        "colab": {
          "base_uri": "https://localhost:8080/"
        },
        "id": "4g3Pjg6WaWEX",
        "outputId": "fe0afc32-8eab-470b-b376-ccec7dec3047"
      },
      "execution_count": 84,
      "outputs": [
        {
          "output_type": "execute_result",
          "data": {
            "text/plain": [
              "411.1595635323225"
            ]
          },
          "metadata": {},
          "execution_count": 84
        }
      ]
    },
    {
      "cell_type": "code",
      "source": [
        "#3b. Root Mean Square Error (RMSE) -> Original Time Serie\n",
        "rmse = MeanSquaredError(square_root=True)\n",
        "RMSE_ARIMA = rmse(data_test, np.exp(log_data_pred))\n",
        "RMSE_ARIMA "
      ],
      "metadata": {
        "colab": {
          "base_uri": "https://localhost:8080/"
        },
        "id": "aO3c05IkaXu2",
        "outputId": "d19be4a5-ebc1-4dbe-cd6c-925a38b5b81d"
      },
      "execution_count": 46,
      "outputs": [
        {
          "output_type": "execute_result",
          "data": {
            "text/plain": [
              "114.9161009047849"
            ]
          },
          "metadata": {},
          "execution_count": 46
        }
      ]
    },
    {
      "cell_type": "markdown",
      "source": [
        "Estimo el modelo ARIMA y realizo las predicciones sobre test. **Las predicciones son bastante parecidas a las del modelo ETS**, aunque son incluso más bajas que estas, por lo que **se alejan aún más de la realidad.**\n",
        "\n",
        "**El MAPE está en torno al 24**%, siendo un porcentaje de error que ya podemos considerar bastante alto y, por lo tanto, inaceptable."
      ],
      "metadata": {
        "id": "ahMQFzQwFsqp"
      }
    },
    {
      "cell_type": "markdown",
      "source": [
        "## **5. 4THETA**"
      ],
      "metadata": {
        "id": "e4E2uyWegG5Y"
      }
    },
    {
      "cell_type": "code",
      "source": [
        "df_matlab_series = pd.DataFrame()\n",
        "\n",
        "df_matlab_series['Fecha'] = pd.date_range(start='1/1/2009', end='31/12/2019', freq = 'M')\n",
        "df_matlab_series['matlab'] = df['matlab']\n",
        "df_matlab_series['Fecha'] = pd.to_datetime(df_matlab_series['Fecha'], format = '%y-%b')"
      ],
      "metadata": {
        "id": "6PuuRQJ2xOyF"
      },
      "execution_count": 47,
      "outputs": []
    },
    {
      "cell_type": "code",
      "source": [
        "matlab_series = TimeSeries.from_dataframe(df_matlab_series, 'Fecha', 'matlab')\n",
        "matlab_series "
      ],
      "metadata": {
        "colab": {
          "base_uri": "https://localhost:8080/",
          "height": 898
        },
        "id": "xHsXfAt0vZDW",
        "outputId": "64157633-c4d6-4769-bbfc-be2f9146d1f7"
      },
      "execution_count": 48,
      "outputs": [
        {
          "output_type": "execute_result",
          "data": {
            "text/plain": [
              "<TimeSeries (DataArray) (Fecha: 132, component: 1, sample: 1)>\n",
              "array([[[  19.]],\n",
              "\n",
              "       [[  27.]],\n",
              "\n",
              "       [[  24.]],\n",
              "\n",
              "       [[  32.]],\n",
              "\n",
              "       [[  42.]],\n",
              "\n",
              "       [[  44.]],\n",
              "\n",
              "       [[  39.]],\n",
              "\n",
              "       [[  34.]],\n",
              "\n",
              "       [[  51.]],\n",
              "\n",
              "       [[  71.]],\n",
              "\n",
              "...\n",
              "\n",
              "       [[ 458.]],\n",
              "\n",
              "       [[ 492.]],\n",
              "\n",
              "       [[ 462.]],\n",
              "\n",
              "       [[ 365.]],\n",
              "\n",
              "       [[ 386.]],\n",
              "\n",
              "       [[ 371.]],\n",
              "\n",
              "       [[ 362.]],\n",
              "\n",
              "       [[ 523.]],\n",
              "\n",
              "       [[ 479.]],\n",
              "\n",
              "       [[ 349.]]])\n",
              "Coordinates:\n",
              "  * Fecha      (Fecha) datetime64[ns] 2009-01-31 2009-02-28 ... 2019-12-31\n",
              "  * component  (component) object 'matlab'\n",
              "Dimensions without coordinates: sample\n",
              "Attributes:\n",
              "    static_covariates:  None\n",
              "    hierarchy:          None"
            ],
            "text/html": [
              "<div><svg style=\"position: absolute; width: 0; height: 0; overflow: hidden\">\n",
              "<defs>\n",
              "<symbol id=\"icon-database\" viewBox=\"0 0 32 32\">\n",
              "<path d=\"M16 0c-8.837 0-16 2.239-16 5v4c0 2.761 7.163 5 16 5s16-2.239 16-5v-4c0-2.761-7.163-5-16-5z\"></path>\n",
              "<path d=\"M16 17c-8.837 0-16-2.239-16-5v6c0 2.761 7.163 5 16 5s16-2.239 16-5v-6c0 2.761-7.163 5-16 5z\"></path>\n",
              "<path d=\"M16 26c-8.837 0-16-2.239-16-5v6c0 2.761 7.163 5 16 5s16-2.239 16-5v-6c0 2.761-7.163 5-16 5z\"></path>\n",
              "</symbol>\n",
              "<symbol id=\"icon-file-text2\" viewBox=\"0 0 32 32\">\n",
              "<path d=\"M28.681 7.159c-0.694-0.947-1.662-2.053-2.724-3.116s-2.169-2.030-3.116-2.724c-1.612-1.182-2.393-1.319-2.841-1.319h-15.5c-1.378 0-2.5 1.121-2.5 2.5v27c0 1.378 1.122 2.5 2.5 2.5h23c1.378 0 2.5-1.122 2.5-2.5v-19.5c0-0.448-0.137-1.23-1.319-2.841zM24.543 5.457c0.959 0.959 1.712 1.825 2.268 2.543h-4.811v-4.811c0.718 0.556 1.584 1.309 2.543 2.268zM28 29.5c0 0.271-0.229 0.5-0.5 0.5h-23c-0.271 0-0.5-0.229-0.5-0.5v-27c0-0.271 0.229-0.5 0.5-0.5 0 0 15.499-0 15.5 0v7c0 0.552 0.448 1 1 1h7v19.5z\"></path>\n",
              "<path d=\"M23 26h-14c-0.552 0-1-0.448-1-1s0.448-1 1-1h14c0.552 0 1 0.448 1 1s-0.448 1-1 1z\"></path>\n",
              "<path d=\"M23 22h-14c-0.552 0-1-0.448-1-1s0.448-1 1-1h14c0.552 0 1 0.448 1 1s-0.448 1-1 1z\"></path>\n",
              "<path d=\"M23 18h-14c-0.552 0-1-0.448-1-1s0.448-1 1-1h14c0.552 0 1 0.448 1 1s-0.448 1-1 1z\"></path>\n",
              "</symbol>\n",
              "</defs>\n",
              "</svg>\n",
              "<style>/* CSS stylesheet for displaying xarray objects in jupyterlab.\n",
              " *\n",
              " */\n",
              "\n",
              ":root {\n",
              "  --xr-font-color0: var(--jp-content-font-color0, rgba(0, 0, 0, 1));\n",
              "  --xr-font-color2: var(--jp-content-font-color2, rgba(0, 0, 0, 0.54));\n",
              "  --xr-font-color3: var(--jp-content-font-color3, rgba(0, 0, 0, 0.38));\n",
              "  --xr-border-color: var(--jp-border-color2, #e0e0e0);\n",
              "  --xr-disabled-color: var(--jp-layout-color3, #bdbdbd);\n",
              "  --xr-background-color: var(--jp-layout-color0, white);\n",
              "  --xr-background-color-row-even: var(--jp-layout-color1, white);\n",
              "  --xr-background-color-row-odd: var(--jp-layout-color2, #eeeeee);\n",
              "}\n",
              "\n",
              "html[theme=dark],\n",
              "body.vscode-dark {\n",
              "  --xr-font-color0: rgba(255, 255, 255, 1);\n",
              "  --xr-font-color2: rgba(255, 255, 255, 0.54);\n",
              "  --xr-font-color3: rgba(255, 255, 255, 0.38);\n",
              "  --xr-border-color: #1F1F1F;\n",
              "  --xr-disabled-color: #515151;\n",
              "  --xr-background-color: #111111;\n",
              "  --xr-background-color-row-even: #111111;\n",
              "  --xr-background-color-row-odd: #313131;\n",
              "}\n",
              "\n",
              ".xr-wrap {\n",
              "  display: block !important;\n",
              "  min-width: 300px;\n",
              "  max-width: 700px;\n",
              "}\n",
              "\n",
              ".xr-text-repr-fallback {\n",
              "  /* fallback to plain text repr when CSS is not injected (untrusted notebook) */\n",
              "  display: none;\n",
              "}\n",
              "\n",
              ".xr-header {\n",
              "  padding-top: 6px;\n",
              "  padding-bottom: 6px;\n",
              "  margin-bottom: 4px;\n",
              "  border-bottom: solid 1px var(--xr-border-color);\n",
              "}\n",
              "\n",
              ".xr-header > div,\n",
              ".xr-header > ul {\n",
              "  display: inline;\n",
              "  margin-top: 0;\n",
              "  margin-bottom: 0;\n",
              "}\n",
              "\n",
              ".xr-obj-type,\n",
              ".xr-array-name {\n",
              "  margin-left: 2px;\n",
              "  margin-right: 10px;\n",
              "}\n",
              "\n",
              ".xr-obj-type {\n",
              "  color: var(--xr-font-color2);\n",
              "}\n",
              "\n",
              ".xr-sections {\n",
              "  padding-left: 0 !important;\n",
              "  display: grid;\n",
              "  grid-template-columns: 150px auto auto 1fr 20px 20px;\n",
              "}\n",
              "\n",
              ".xr-section-item {\n",
              "  display: contents;\n",
              "}\n",
              "\n",
              ".xr-section-item input {\n",
              "  display: none;\n",
              "}\n",
              "\n",
              ".xr-section-item input + label {\n",
              "  color: var(--xr-disabled-color);\n",
              "}\n",
              "\n",
              ".xr-section-item input:enabled + label {\n",
              "  cursor: pointer;\n",
              "  color: var(--xr-font-color2);\n",
              "}\n",
              "\n",
              ".xr-section-item input:enabled + label:hover {\n",
              "  color: var(--xr-font-color0);\n",
              "}\n",
              "\n",
              ".xr-section-summary {\n",
              "  grid-column: 1;\n",
              "  color: var(--xr-font-color2);\n",
              "  font-weight: 500;\n",
              "}\n",
              "\n",
              ".xr-section-summary > span {\n",
              "  display: inline-block;\n",
              "  padding-left: 0.5em;\n",
              "}\n",
              "\n",
              ".xr-section-summary-in:disabled + label {\n",
              "  color: var(--xr-font-color2);\n",
              "}\n",
              "\n",
              ".xr-section-summary-in + label:before {\n",
              "  display: inline-block;\n",
              "  content: '►';\n",
              "  font-size: 11px;\n",
              "  width: 15px;\n",
              "  text-align: center;\n",
              "}\n",
              "\n",
              ".xr-section-summary-in:disabled + label:before {\n",
              "  color: var(--xr-disabled-color);\n",
              "}\n",
              "\n",
              ".xr-section-summary-in:checked + label:before {\n",
              "  content: '▼';\n",
              "}\n",
              "\n",
              ".xr-section-summary-in:checked + label > span {\n",
              "  display: none;\n",
              "}\n",
              "\n",
              ".xr-section-summary,\n",
              ".xr-section-inline-details {\n",
              "  padding-top: 4px;\n",
              "  padding-bottom: 4px;\n",
              "}\n",
              "\n",
              ".xr-section-inline-details {\n",
              "  grid-column: 2 / -1;\n",
              "}\n",
              "\n",
              ".xr-section-details {\n",
              "  display: none;\n",
              "  grid-column: 1 / -1;\n",
              "  margin-bottom: 5px;\n",
              "}\n",
              "\n",
              ".xr-section-summary-in:checked ~ .xr-section-details {\n",
              "  display: contents;\n",
              "}\n",
              "\n",
              ".xr-array-wrap {\n",
              "  grid-column: 1 / -1;\n",
              "  display: grid;\n",
              "  grid-template-columns: 20px auto;\n",
              "}\n",
              "\n",
              ".xr-array-wrap > label {\n",
              "  grid-column: 1;\n",
              "  vertical-align: top;\n",
              "}\n",
              "\n",
              ".xr-preview {\n",
              "  color: var(--xr-font-color3);\n",
              "}\n",
              "\n",
              ".xr-array-preview,\n",
              ".xr-array-data {\n",
              "  padding: 0 5px !important;\n",
              "  grid-column: 2;\n",
              "}\n",
              "\n",
              ".xr-array-data,\n",
              ".xr-array-in:checked ~ .xr-array-preview {\n",
              "  display: none;\n",
              "}\n",
              "\n",
              ".xr-array-in:checked ~ .xr-array-data,\n",
              ".xr-array-preview {\n",
              "  display: inline-block;\n",
              "}\n",
              "\n",
              ".xr-dim-list {\n",
              "  display: inline-block !important;\n",
              "  list-style: none;\n",
              "  padding: 0 !important;\n",
              "  margin: 0;\n",
              "}\n",
              "\n",
              ".xr-dim-list li {\n",
              "  display: inline-block;\n",
              "  padding: 0;\n",
              "  margin: 0;\n",
              "}\n",
              "\n",
              ".xr-dim-list:before {\n",
              "  content: '(';\n",
              "}\n",
              "\n",
              ".xr-dim-list:after {\n",
              "  content: ')';\n",
              "}\n",
              "\n",
              ".xr-dim-list li:not(:last-child):after {\n",
              "  content: ',';\n",
              "  padding-right: 5px;\n",
              "}\n",
              "\n",
              ".xr-has-index {\n",
              "  font-weight: bold;\n",
              "}\n",
              "\n",
              ".xr-var-list,\n",
              ".xr-var-item {\n",
              "  display: contents;\n",
              "}\n",
              "\n",
              ".xr-var-item > div,\n",
              ".xr-var-item label,\n",
              ".xr-var-item > .xr-var-name span {\n",
              "  background-color: var(--xr-background-color-row-even);\n",
              "  margin-bottom: 0;\n",
              "}\n",
              "\n",
              ".xr-var-item > .xr-var-name:hover span {\n",
              "  padding-right: 5px;\n",
              "}\n",
              "\n",
              ".xr-var-list > li:nth-child(odd) > div,\n",
              ".xr-var-list > li:nth-child(odd) > label,\n",
              ".xr-var-list > li:nth-child(odd) > .xr-var-name span {\n",
              "  background-color: var(--xr-background-color-row-odd);\n",
              "}\n",
              "\n",
              ".xr-var-name {\n",
              "  grid-column: 1;\n",
              "}\n",
              "\n",
              ".xr-var-dims {\n",
              "  grid-column: 2;\n",
              "}\n",
              "\n",
              ".xr-var-dtype {\n",
              "  grid-column: 3;\n",
              "  text-align: right;\n",
              "  color: var(--xr-font-color2);\n",
              "}\n",
              "\n",
              ".xr-var-preview {\n",
              "  grid-column: 4;\n",
              "}\n",
              "\n",
              ".xr-var-name,\n",
              ".xr-var-dims,\n",
              ".xr-var-dtype,\n",
              ".xr-preview,\n",
              ".xr-attrs dt {\n",
              "  white-space: nowrap;\n",
              "  overflow: hidden;\n",
              "  text-overflow: ellipsis;\n",
              "  padding-right: 10px;\n",
              "}\n",
              "\n",
              ".xr-var-name:hover,\n",
              ".xr-var-dims:hover,\n",
              ".xr-var-dtype:hover,\n",
              ".xr-attrs dt:hover {\n",
              "  overflow: visible;\n",
              "  width: auto;\n",
              "  z-index: 1;\n",
              "}\n",
              "\n",
              ".xr-var-attrs,\n",
              ".xr-var-data {\n",
              "  display: none;\n",
              "  background-color: var(--xr-background-color) !important;\n",
              "  padding-bottom: 5px !important;\n",
              "}\n",
              "\n",
              ".xr-var-attrs-in:checked ~ .xr-var-attrs,\n",
              ".xr-var-data-in:checked ~ .xr-var-data {\n",
              "  display: block;\n",
              "}\n",
              "\n",
              ".xr-var-data > table {\n",
              "  float: right;\n",
              "}\n",
              "\n",
              ".xr-var-name span,\n",
              ".xr-var-data,\n",
              ".xr-attrs {\n",
              "  padding-left: 25px !important;\n",
              "}\n",
              "\n",
              ".xr-attrs,\n",
              ".xr-var-attrs,\n",
              ".xr-var-data {\n",
              "  grid-column: 1 / -1;\n",
              "}\n",
              "\n",
              "dl.xr-attrs {\n",
              "  padding: 0;\n",
              "  margin: 0;\n",
              "  display: grid;\n",
              "  grid-template-columns: 125px auto;\n",
              "}\n",
              "\n",
              ".xr-attrs dt,\n",
              ".xr-attrs dd {\n",
              "  padding: 0;\n",
              "  margin: 0;\n",
              "  float: left;\n",
              "  padding-right: 10px;\n",
              "  width: auto;\n",
              "}\n",
              "\n",
              ".xr-attrs dt {\n",
              "  font-weight: normal;\n",
              "  grid-column: 1;\n",
              "}\n",
              "\n",
              ".xr-attrs dt:hover span {\n",
              "  display: inline-block;\n",
              "  background: var(--xr-background-color);\n",
              "  padding-right: 10px;\n",
              "}\n",
              "\n",
              ".xr-attrs dd {\n",
              "  grid-column: 2;\n",
              "  white-space: pre-wrap;\n",
              "  word-break: break-all;\n",
              "}\n",
              "\n",
              ".xr-icon-database,\n",
              ".xr-icon-file-text2 {\n",
              "  display: inline-block;\n",
              "  vertical-align: middle;\n",
              "  width: 1em;\n",
              "  height: 1.5em !important;\n",
              "  stroke-width: 0;\n",
              "  stroke: currentColor;\n",
              "  fill: currentColor;\n",
              "}\n",
              "</style><pre class='xr-text-repr-fallback'>&lt;TimeSeries (DataArray) (Fecha: 132, component: 1, sample: 1)&gt;\n",
              "array([[[  19.]],\n",
              "\n",
              "       [[  27.]],\n",
              "\n",
              "       [[  24.]],\n",
              "\n",
              "       [[  32.]],\n",
              "\n",
              "       [[  42.]],\n",
              "\n",
              "       [[  44.]],\n",
              "\n",
              "       [[  39.]],\n",
              "\n",
              "       [[  34.]],\n",
              "\n",
              "       [[  51.]],\n",
              "\n",
              "       [[  71.]],\n",
              "\n",
              "...\n",
              "\n",
              "       [[ 458.]],\n",
              "\n",
              "       [[ 492.]],\n",
              "\n",
              "       [[ 462.]],\n",
              "\n",
              "       [[ 365.]],\n",
              "\n",
              "       [[ 386.]],\n",
              "\n",
              "       [[ 371.]],\n",
              "\n",
              "       [[ 362.]],\n",
              "\n",
              "       [[ 523.]],\n",
              "\n",
              "       [[ 479.]],\n",
              "\n",
              "       [[ 349.]]])\n",
              "Coordinates:\n",
              "  * Fecha      (Fecha) datetime64[ns] 2009-01-31 2009-02-28 ... 2019-12-31\n",
              "  * component  (component) object &#x27;matlab&#x27;\n",
              "Dimensions without coordinates: sample\n",
              "Attributes:\n",
              "    static_covariates:  None\n",
              "    hierarchy:          None</pre><div class='xr-wrap' style='display:none'><div class='xr-header'><div class='xr-obj-type'>TimeSeries (DataArray)</div><div class='xr-array-name'></div><ul class='xr-dim-list'><li><span class='xr-has-index'>Fecha</span>: 132</li><li><span class='xr-has-index'>component</span>: 1</li><li><span>sample</span>: 1</li></ul></div><ul class='xr-sections'><li class='xr-section-item'><div class='xr-array-wrap'><input id='section-5d1246bf-6151-45c7-be8c-9f1c5b645936' class='xr-array-in' type='checkbox' checked><label for='section-5d1246bf-6151-45c7-be8c-9f1c5b645936' title='Show/hide data repr'><svg class='icon xr-icon-database'><use xlink:href='#icon-database'></use></svg></label><div class='xr-array-preview xr-preview'><span>19.0 27.0 24.0 32.0 42.0 44.0 ... 386.0 371.0 362.0 523.0 479.0 349.0</span></div><div class='xr-array-data'><pre>array([[[  19.]],\n",
              "\n",
              "       [[  27.]],\n",
              "\n",
              "       [[  24.]],\n",
              "\n",
              "       [[  32.]],\n",
              "\n",
              "       [[  42.]],\n",
              "\n",
              "       [[  44.]],\n",
              "\n",
              "       [[  39.]],\n",
              "\n",
              "       [[  34.]],\n",
              "\n",
              "       [[  51.]],\n",
              "\n",
              "       [[  71.]],\n",
              "\n",
              "...\n",
              "\n",
              "       [[ 458.]],\n",
              "\n",
              "       [[ 492.]],\n",
              "\n",
              "       [[ 462.]],\n",
              "\n",
              "       [[ 365.]],\n",
              "\n",
              "       [[ 386.]],\n",
              "\n",
              "       [[ 371.]],\n",
              "\n",
              "       [[ 362.]],\n",
              "\n",
              "       [[ 523.]],\n",
              "\n",
              "       [[ 479.]],\n",
              "\n",
              "       [[ 349.]]])</pre></div></div></li><li class='xr-section-item'><input id='section-2e405689-4828-4b2c-8bc0-5ca5ce296e30' class='xr-section-summary-in' type='checkbox'  checked><label for='section-2e405689-4828-4b2c-8bc0-5ca5ce296e30' class='xr-section-summary' >Coordinates: <span>(2)</span></label><div class='xr-section-inline-details'></div><div class='xr-section-details'><ul class='xr-var-list'><li class='xr-var-item'><div class='xr-var-name'><span class='xr-has-index'>Fecha</span></div><div class='xr-var-dims'>(Fecha)</div><div class='xr-var-dtype'>datetime64[ns]</div><div class='xr-var-preview xr-preview'>2009-01-31 ... 2019-12-31</div><input id='attrs-91197d4a-a67a-49fb-a6ee-c2ea73de233f' class='xr-var-attrs-in' type='checkbox' disabled><label for='attrs-91197d4a-a67a-49fb-a6ee-c2ea73de233f' title='Show/Hide attributes'><svg class='icon xr-icon-file-text2'><use xlink:href='#icon-file-text2'></use></svg></label><input id='data-a9be7ecc-7db1-4315-859f-dbf5dba2ccd3' class='xr-var-data-in' type='checkbox'><label for='data-a9be7ecc-7db1-4315-859f-dbf5dba2ccd3' title='Show/Hide data repr'><svg class='icon xr-icon-database'><use xlink:href='#icon-database'></use></svg></label><div class='xr-var-attrs'><dl class='xr-attrs'></dl></div><div class='xr-var-data'><pre>array([&#x27;2009-01-31T00:00:00.000000000&#x27;, &#x27;2009-02-28T00:00:00.000000000&#x27;,\n",
              "       &#x27;2009-03-31T00:00:00.000000000&#x27;, &#x27;2009-04-30T00:00:00.000000000&#x27;,\n",
              "       &#x27;2009-05-31T00:00:00.000000000&#x27;, &#x27;2009-06-30T00:00:00.000000000&#x27;,\n",
              "       &#x27;2009-07-31T00:00:00.000000000&#x27;, &#x27;2009-08-31T00:00:00.000000000&#x27;,\n",
              "       &#x27;2009-09-30T00:00:00.000000000&#x27;, &#x27;2009-10-31T00:00:00.000000000&#x27;,\n",
              "       &#x27;2009-11-30T00:00:00.000000000&#x27;, &#x27;2009-12-31T00:00:00.000000000&#x27;,\n",
              "       &#x27;2010-01-31T00:00:00.000000000&#x27;, &#x27;2010-02-28T00:00:00.000000000&#x27;,\n",
              "       &#x27;2010-03-31T00:00:00.000000000&#x27;, &#x27;2010-04-30T00:00:00.000000000&#x27;,\n",
              "       &#x27;2010-05-31T00:00:00.000000000&#x27;, &#x27;2010-06-30T00:00:00.000000000&#x27;,\n",
              "       &#x27;2010-07-31T00:00:00.000000000&#x27;, &#x27;2010-08-31T00:00:00.000000000&#x27;,\n",
              "       &#x27;2010-09-30T00:00:00.000000000&#x27;, &#x27;2010-10-31T00:00:00.000000000&#x27;,\n",
              "       &#x27;2010-11-30T00:00:00.000000000&#x27;, &#x27;2010-12-31T00:00:00.000000000&#x27;,\n",
              "       &#x27;2011-01-31T00:00:00.000000000&#x27;, &#x27;2011-02-28T00:00:00.000000000&#x27;,\n",
              "       &#x27;2011-03-31T00:00:00.000000000&#x27;, &#x27;2011-04-30T00:00:00.000000000&#x27;,\n",
              "       &#x27;2011-05-31T00:00:00.000000000&#x27;, &#x27;2011-06-30T00:00:00.000000000&#x27;,\n",
              "       &#x27;2011-07-31T00:00:00.000000000&#x27;, &#x27;2011-08-31T00:00:00.000000000&#x27;,\n",
              "       &#x27;2011-09-30T00:00:00.000000000&#x27;, &#x27;2011-10-31T00:00:00.000000000&#x27;,\n",
              "       &#x27;2011-11-30T00:00:00.000000000&#x27;, &#x27;2011-12-31T00:00:00.000000000&#x27;,\n",
              "       &#x27;2012-01-31T00:00:00.000000000&#x27;, &#x27;2012-02-29T00:00:00.000000000&#x27;,\n",
              "       &#x27;2012-03-31T00:00:00.000000000&#x27;, &#x27;2012-04-30T00:00:00.000000000&#x27;,\n",
              "       &#x27;2012-05-31T00:00:00.000000000&#x27;, &#x27;2012-06-30T00:00:00.000000000&#x27;,\n",
              "       &#x27;2012-07-31T00:00:00.000000000&#x27;, &#x27;2012-08-31T00:00:00.000000000&#x27;,\n",
              "       &#x27;2012-09-30T00:00:00.000000000&#x27;, &#x27;2012-10-31T00:00:00.000000000&#x27;,\n",
              "       &#x27;2012-11-30T00:00:00.000000000&#x27;, &#x27;2012-12-31T00:00:00.000000000&#x27;,\n",
              "       &#x27;2013-01-31T00:00:00.000000000&#x27;, &#x27;2013-02-28T00:00:00.000000000&#x27;,\n",
              "       &#x27;2013-03-31T00:00:00.000000000&#x27;, &#x27;2013-04-30T00:00:00.000000000&#x27;,\n",
              "       &#x27;2013-05-31T00:00:00.000000000&#x27;, &#x27;2013-06-30T00:00:00.000000000&#x27;,\n",
              "       &#x27;2013-07-31T00:00:00.000000000&#x27;, &#x27;2013-08-31T00:00:00.000000000&#x27;,\n",
              "       &#x27;2013-09-30T00:00:00.000000000&#x27;, &#x27;2013-10-31T00:00:00.000000000&#x27;,\n",
              "       &#x27;2013-11-30T00:00:00.000000000&#x27;, &#x27;2013-12-31T00:00:00.000000000&#x27;,\n",
              "       &#x27;2014-01-31T00:00:00.000000000&#x27;, &#x27;2014-02-28T00:00:00.000000000&#x27;,\n",
              "       &#x27;2014-03-31T00:00:00.000000000&#x27;, &#x27;2014-04-30T00:00:00.000000000&#x27;,\n",
              "       &#x27;2014-05-31T00:00:00.000000000&#x27;, &#x27;2014-06-30T00:00:00.000000000&#x27;,\n",
              "       &#x27;2014-07-31T00:00:00.000000000&#x27;, &#x27;2014-08-31T00:00:00.000000000&#x27;,\n",
              "       &#x27;2014-09-30T00:00:00.000000000&#x27;, &#x27;2014-10-31T00:00:00.000000000&#x27;,\n",
              "       &#x27;2014-11-30T00:00:00.000000000&#x27;, &#x27;2014-12-31T00:00:00.000000000&#x27;,\n",
              "       &#x27;2015-01-31T00:00:00.000000000&#x27;, &#x27;2015-02-28T00:00:00.000000000&#x27;,\n",
              "       &#x27;2015-03-31T00:00:00.000000000&#x27;, &#x27;2015-04-30T00:00:00.000000000&#x27;,\n",
              "       &#x27;2015-05-31T00:00:00.000000000&#x27;, &#x27;2015-06-30T00:00:00.000000000&#x27;,\n",
              "       &#x27;2015-07-31T00:00:00.000000000&#x27;, &#x27;2015-08-31T00:00:00.000000000&#x27;,\n",
              "       &#x27;2015-09-30T00:00:00.000000000&#x27;, &#x27;2015-10-31T00:00:00.000000000&#x27;,\n",
              "       &#x27;2015-11-30T00:00:00.000000000&#x27;, &#x27;2015-12-31T00:00:00.000000000&#x27;,\n",
              "       &#x27;2016-01-31T00:00:00.000000000&#x27;, &#x27;2016-02-29T00:00:00.000000000&#x27;,\n",
              "       &#x27;2016-03-31T00:00:00.000000000&#x27;, &#x27;2016-04-30T00:00:00.000000000&#x27;,\n",
              "       &#x27;2016-05-31T00:00:00.000000000&#x27;, &#x27;2016-06-30T00:00:00.000000000&#x27;,\n",
              "       &#x27;2016-07-31T00:00:00.000000000&#x27;, &#x27;2016-08-31T00:00:00.000000000&#x27;,\n",
              "       &#x27;2016-09-30T00:00:00.000000000&#x27;, &#x27;2016-10-31T00:00:00.000000000&#x27;,\n",
              "       &#x27;2016-11-30T00:00:00.000000000&#x27;, &#x27;2016-12-31T00:00:00.000000000&#x27;,\n",
              "       &#x27;2017-01-31T00:00:00.000000000&#x27;, &#x27;2017-02-28T00:00:00.000000000&#x27;,\n",
              "       &#x27;2017-03-31T00:00:00.000000000&#x27;, &#x27;2017-04-30T00:00:00.000000000&#x27;,\n",
              "       &#x27;2017-05-31T00:00:00.000000000&#x27;, &#x27;2017-06-30T00:00:00.000000000&#x27;,\n",
              "       &#x27;2017-07-31T00:00:00.000000000&#x27;, &#x27;2017-08-31T00:00:00.000000000&#x27;,\n",
              "       &#x27;2017-09-30T00:00:00.000000000&#x27;, &#x27;2017-10-31T00:00:00.000000000&#x27;,\n",
              "       &#x27;2017-11-30T00:00:00.000000000&#x27;, &#x27;2017-12-31T00:00:00.000000000&#x27;,\n",
              "       &#x27;2018-01-31T00:00:00.000000000&#x27;, &#x27;2018-02-28T00:00:00.000000000&#x27;,\n",
              "       &#x27;2018-03-31T00:00:00.000000000&#x27;, &#x27;2018-04-30T00:00:00.000000000&#x27;,\n",
              "       &#x27;2018-05-31T00:00:00.000000000&#x27;, &#x27;2018-06-30T00:00:00.000000000&#x27;,\n",
              "       &#x27;2018-07-31T00:00:00.000000000&#x27;, &#x27;2018-08-31T00:00:00.000000000&#x27;,\n",
              "       &#x27;2018-09-30T00:00:00.000000000&#x27;, &#x27;2018-10-31T00:00:00.000000000&#x27;,\n",
              "       &#x27;2018-11-30T00:00:00.000000000&#x27;, &#x27;2018-12-31T00:00:00.000000000&#x27;,\n",
              "       &#x27;2019-01-31T00:00:00.000000000&#x27;, &#x27;2019-02-28T00:00:00.000000000&#x27;,\n",
              "       &#x27;2019-03-31T00:00:00.000000000&#x27;, &#x27;2019-04-30T00:00:00.000000000&#x27;,\n",
              "       &#x27;2019-05-31T00:00:00.000000000&#x27;, &#x27;2019-06-30T00:00:00.000000000&#x27;,\n",
              "       &#x27;2019-07-31T00:00:00.000000000&#x27;, &#x27;2019-08-31T00:00:00.000000000&#x27;,\n",
              "       &#x27;2019-09-30T00:00:00.000000000&#x27;, &#x27;2019-10-31T00:00:00.000000000&#x27;,\n",
              "       &#x27;2019-11-30T00:00:00.000000000&#x27;, &#x27;2019-12-31T00:00:00.000000000&#x27;],\n",
              "      dtype=&#x27;datetime64[ns]&#x27;)</pre></div></li><li class='xr-var-item'><div class='xr-var-name'><span class='xr-has-index'>component</span></div><div class='xr-var-dims'>(component)</div><div class='xr-var-dtype'>object</div><div class='xr-var-preview xr-preview'>&#x27;matlab&#x27;</div><input id='attrs-752fd646-e729-46c1-bd8c-e039c138202b' class='xr-var-attrs-in' type='checkbox' disabled><label for='attrs-752fd646-e729-46c1-bd8c-e039c138202b' title='Show/Hide attributes'><svg class='icon xr-icon-file-text2'><use xlink:href='#icon-file-text2'></use></svg></label><input id='data-9694f57d-9cb4-4945-9689-7eb8fa25af1c' class='xr-var-data-in' type='checkbox'><label for='data-9694f57d-9cb4-4945-9689-7eb8fa25af1c' title='Show/Hide data repr'><svg class='icon xr-icon-database'><use xlink:href='#icon-database'></use></svg></label><div class='xr-var-attrs'><dl class='xr-attrs'></dl></div><div class='xr-var-data'><pre>array([&#x27;matlab&#x27;], dtype=object)</pre></div></li></ul></div></li><li class='xr-section-item'><input id='section-2c213268-9a3d-48d9-a6b0-e843e01c7b89' class='xr-section-summary-in' type='checkbox'  checked><label for='section-2c213268-9a3d-48d9-a6b0-e843e01c7b89' class='xr-section-summary' >Attributes: <span>(2)</span></label><div class='xr-section-inline-details'></div><div class='xr-section-details'><dl class='xr-attrs'><dt><span>static_covariates :</span></dt><dd>None</dd><dt><span>hierarchy :</span></dt><dd>None</dd></dl></div></li></ul></div></div>"
            ]
          },
          "metadata": {},
          "execution_count": 48
        }
      ]
    },
    {
      "cell_type": "markdown",
      "source": [
        "Para poder implementar este modelo, **es necesario transformar el DataFrame a una serie. **\n",
        "\n",
        "Para ello, el DataFrame debe tener la fecha como columna en vez de como índice, por lo que me creo un nuevo DataFrame en el que incluyo la fecha como columna, y más tarde, lo convierto a serie."
      ],
      "metadata": {
        "id": "wMohUlQjHN_G"
      }
    },
    {
      "cell_type": "code",
      "source": [
        "plt.rcParams[\"figure.figsize\"] = (11,4)\n",
        "matlab_series.plot()"
      ],
      "metadata": {
        "colab": {
          "base_uri": "https://localhost:8080/",
          "height": 300
        },
        "id": "qVOTIvw6ySnv",
        "outputId": "f82d706f-a8cb-4390-e5c1-aa5288e10ef8"
      },
      "execution_count": 49,
      "outputs": [
        {
          "output_type": "display_data",
          "data": {
            "text/plain": [
              "<Figure size 792x288 with 1 Axes>"
            ],
            "image/png": "[encoded data removed]"
          },
          "metadata": {}
        }
      ]
    },
    {
      "cell_type": "code",
      "source": [
        "train_series, val_series = matlab_series.split_before(pd.Timestamp(\"20190731\"))\n",
        "train_series.plot(label=\"training\")\n",
        "val_series.plot(label=\"validation\")"
      ],
      "metadata": {
        "colab": {
          "base_uri": "https://localhost:8080/",
          "height": 300
        },
        "id": "a-2URbP_yZpn",
        "outputId": "5df52e7d-7cb6-4e35-f53e-37c7a0efbdc9"
      },
      "execution_count": 50,
      "outputs": [
        {
          "output_type": "display_data",
          "data": {
            "text/plain": [
              "<Figure size 792x288 with 1 Axes>"
            ],
            "image/png": "[encoded data removed]"
          },
          "metadata": {}
        }
      ]
    },
    {
      "cell_type": "code",
      "source": [
        "four_theta_model = FourTheta(seasonality_period = 12)\n",
        "four_theta_model.fit(train_series)\n",
        "forecast_four_theta = four_theta_model.predict(len(val_series))\n",
        "print(\"model {} obtains MAPE: {:.2f}%\".format(four_theta_model, mape(val_series, forecast_four_theta)))"
      ],
      "metadata": {
        "colab": {
          "base_uri": "https://localhost:8080/"
        },
        "id": "Bs1sfK7UgPKA",
        "outputId": "6d842560-1256-49a3-e06d-079b57589268"
      },
      "execution_count": 51,
      "outputs": [
        {
          "output_type": "stream",
          "name": "stdout",
          "text": [
            "model 4Theta(theta:2, curve:TrendMode.LINEAR, model:ModelMode.ADDITIVE, seasonality:SeasonalityMode.MULTIPLICATIVE) obtains MAPE: 41.07%\n"
          ]
        }
      ]
    },
    {
      "cell_type": "code",
      "source": [
        "train_series.plot(label = \"train_series\")\n",
        "val_series.plot(label = \"val_series\")\n",
        "forecast_four_theta.plot(label = \"prediction 4Theta\")"
      ],
      "metadata": {
        "colab": {
          "base_uri": "https://localhost:8080/",
          "height": 300
        },
        "id": "PRXM0VbH0vLv",
        "outputId": "7ce59cf6-1a1d-43f2-e0c5-bbc19e20870a"
      },
      "execution_count": 52,
      "outputs": [
        {
          "output_type": "display_data",
          "data": {
            "text/plain": [
              "<Figure size 792x288 with 1 Axes>"
            ],
            "image/png": "[encoded data removed]"
          },
          "metadata": {}
        }
      ]
    },
    {
      "cell_type": "markdown",
      "source": [
        "Estimo el modelo y me sale muy errático, como se puede apreciar tanto en el MAPE obtenido como en el gráfico. \n",
        "\n",
        "Para mejorar las predicciones, tuneo los hiperparámetros para usar los que mejor van a estimar el modelo."
      ],
      "metadata": {
        "id": "GrINiIp1Hw0R"
      }
    },
    {
      "cell_type": "code",
      "source": [
        "theta_grid = {\n",
        "    #'theta':2- np.linspace(-10, 10, 10),\n",
        "    'theta':[-4,-3,-2,-1,1,2,3,4],\n",
        "    'model_mode': [ModelMode.ADDITIVE,ModelMode.MULTIPLICATIVE],\n",
        "    'season_mode': [SeasonalityMode.MULTIPLICATIVE,SeasonalityMode.ADDITIVE],\n",
        "    'trend_mode': [TrendMode.EXPONENTIAL,TrendMode.LINEAR]\n",
        "}\n",
        "\n",
        "best_grid_model = FourTheta.gridsearch(parameters = theta_grid,\n",
        "                                series = train_series,\n",
        "                                forecast_horizon = 6, # 12\n",
        "                                start = 0.5,\n",
        "                                last_points_only = False,\n",
        "                                metric = mape,\n",
        "                                reduction = np.mean,\n",
        "                                verbose = False,\n",
        "                                n_jobs = -1)\n",
        "\n",
        "best_grid_model"
      ],
      "metadata": {
        "colab": {
          "base_uri": "https://localhost:8080/"
        },
        "id": "vLps1q1M046t",
        "outputId": "953082db-4349-4c22-8211-316613caaa11"
      },
      "execution_count": 53,
      "outputs": [
        {
          "output_type": "execute_result",
          "data": {
            "text/plain": [
              "(<darts.models.forecasting.theta.FourTheta at 0x7f820a2686d0>,\n",
              " {'theta': 1,\n",
              "  'model_mode': <ModelMode.ADDITIVE: 'additive'>,\n",
              "  'season_mode': <SeasonalityMode.ADDITIVE: 'additive'>,\n",
              "  'trend_mode': <TrendMode.EXPONENTIAL: 'exponential'>},\n",
              " 18.901827437056177)"
            ]
          },
          "metadata": {},
          "execution_count": 53
        }
      ]
    },
    {
      "cell_type": "code",
      "source": [
        "modelo1 = FourTheta(theta = best_grid_model[1]['theta'],\n",
        "                 model_mode = ModelMode.ADDITIVE,\n",
        "                 season_mode = SeasonalityMode.ADDITIVE,\n",
        "                 trend_mode = TrendMode.EXPONENTIAL\n",
        "                 )\n",
        "modelo1.fit(train_series)\n",
        "pred_modelo = modelo1.predict(len(val_series))\n",
        "\n",
        "train_series.plot(label = \"train_series\")\n",
        "val_series.plot(label = \"val_series\")\n",
        "pred_modelo.plot(label = \"prediction 4Theta\")"
      ],
      "metadata": {
        "colab": {
          "base_uri": "https://localhost:8080/",
          "height": 300
        },
        "id": "JanepAGK0_Z2",
        "outputId": "72669bab-cd03-4c56-9d3a-d3a99a681bc2"
      },
      "execution_count": 54,
      "outputs": [
        {
          "output_type": "display_data",
          "data": {
            "text/plain": [
              "<Figure size 792x288 with 1 Axes>"
            ],
            "image/png": "[encoded data removed]"
          },
          "metadata": {}
        }
      ]
    },
    {
      "cell_type": "code",
      "source": [
        "#MAPE\n",
        "MAPE_4THETA = mape(val_series, pred_modelo)\n",
        "MAPE_4THETA "
      ],
      "metadata": {
        "colab": {
          "base_uri": "https://localhost:8080/"
        },
        "id": "OQ0GL5ga1Bgi",
        "outputId": "51124057-82b7-460f-a75a-d8889e79a505"
      },
      "execution_count": 56,
      "outputs": [
        {
          "output_type": "execute_result",
          "data": {
            "text/plain": [
              "12.717845843303307"
            ]
          },
          "metadata": {},
          "execution_count": 56
        }
      ]
    },
    {
      "cell_type": "markdown",
      "source": [
        "Una vez cambiados algunos de los hiperparámetros, estimo el modelo de nuevo y este mejora las predicciones anteriores considerablemente. \n",
        "\n",
        "Aunque **las predicciones** son más bajas que los datos reales, igual que en los dos modelos que he estimado antes, estas **se acercan más a la realidad que los otros modelos y el MAPE es más bajo, situándose cerca del 13%.**"
      ],
      "metadata": {
        "id": "wlO36AuKIms2"
      }
    },
    {
      "cell_type": "markdown",
      "source": [
        "## **6. TBATS**"
      ],
      "metadata": {
        "id": "I2P_xMafrqS7"
      }
    },
    {
      "cell_type": "code",
      "source": [
        "matlab_series "
      ],
      "metadata": {
        "colab": {
          "base_uri": "https://localhost:8080/",
          "height": 898
        },
        "id": "VwNvQZVbruR3",
        "outputId": "fc836efc-5881-4245-cd36-481a4e32c12f"
      },
      "execution_count": 67,
      "outputs": [
        {
          "output_type": "execute_result",
          "data": {
            "text/plain": [
              "<TimeSeries (DataArray) (Fecha: 132, component: 1, sample: 1)>\n",
              "array([[[  19.]],\n",
              "\n",
              "       [[  27.]],\n",
              "\n",
              "       [[  24.]],\n",
              "\n",
              "       [[  32.]],\n",
              "\n",
              "       [[  42.]],\n",
              "\n",
              "       [[  44.]],\n",
              "\n",
              "       [[  39.]],\n",
              "\n",
              "       [[  34.]],\n",
              "\n",
              "       [[  51.]],\n",
              "\n",
              "       [[  71.]],\n",
              "\n",
              "...\n",
              "\n",
              "       [[ 458.]],\n",
              "\n",
              "       [[ 492.]],\n",
              "\n",
              "       [[ 462.]],\n",
              "\n",
              "       [[ 365.]],\n",
              "\n",
              "       [[ 386.]],\n",
              "\n",
              "       [[ 371.]],\n",
              "\n",
              "       [[ 362.]],\n",
              "\n",
              "       [[ 523.]],\n",
              "\n",
              "       [[ 479.]],\n",
              "\n",
              "       [[ 349.]]])\n",
              "Coordinates:\n",
              "  * Fecha      (Fecha) datetime64[ns] 2009-01-31 2009-02-28 ... 2019-12-31\n",
              "  * component  (component) object 'matlab'\n",
              "Dimensions without coordinates: sample\n",
              "Attributes:\n",
              "    static_covariates:  None\n",
              "    hierarchy:          None"
            ],
            "text/html": [
              "<div><svg style=\"position: absolute; width: 0; height: 0; overflow: hidden\">\n",
              "<defs>\n",
              "<symbol id=\"icon-database\" viewBox=\"0 0 32 32\">\n",
              "<path d=\"M16 0c-8.837 0-16 2.239-16 5v4c0 2.761 7.163 5 16 5s16-2.239 16-5v-4c0-2.761-7.163-5-16-5z\"></path>\n",
              "<path d=\"M16 17c-8.837 0-16-2.239-16-5v6c0 2.761 7.163 5 16 5s16-2.239 16-5v-6c0 2.761-7.163 5-16 5z\"></path>\n",
              "<path d=\"M16 26c-8.837 0-16-2.239-16-5v6c0 2.761 7.163 5 16 5s16-2.239 16-5v-6c0 2.761-7.163 5-16 5z\"></path>\n",
              "</symbol>\n",
              "<symbol id=\"icon-file-text2\" viewBox=\"0 0 32 32\">\n",
              "<path d=\"M28.681 7.159c-0.694-0.947-1.662-2.053-2.724-3.116s-2.169-2.030-3.116-2.724c-1.612-1.182-2.393-1.319-2.841-1.319h-15.5c-1.378 0-2.5 1.121-2.5 2.5v27c0 1.378 1.122 2.5 2.5 2.5h23c1.378 0 2.5-1.122 2.5-2.5v-19.5c0-0.448-0.137-1.23-1.319-2.841zM24.543 5.457c0.959 0.959 1.712 1.825 2.268 2.543h-4.811v-4.811c0.718 0.556 1.584 1.309 2.543 2.268zM28 29.5c0 0.271-0.229 0.5-0.5 0.5h-23c-0.271 0-0.5-0.229-0.5-0.5v-27c0-0.271 0.229-0.5 0.5-0.5 0 0 15.499-0 15.5 0v7c0 0.552 0.448 1 1 1h7v19.5z\"></path>\n",
              "<path d=\"M23 26h-14c-0.552 0-1-0.448-1-1s0.448-1 1-1h14c0.552 0 1 0.448 1 1s-0.448 1-1 1z\"></path>\n",
              "<path d=\"M23 22h-14c-0.552 0-1-0.448-1-1s0.448-1 1-1h14c0.552 0 1 0.448 1 1s-0.448 1-1 1z\"></path>\n",
              "<path d=\"M23 18h-14c-0.552 0-1-0.448-1-1s0.448-1 1-1h14c0.552 0 1 0.448 1 1s-0.448 1-1 1z\"></path>\n",
              "</symbol>\n",
              "</defs>\n",
              "</svg>\n",
              "<style>/* CSS stylesheet for displaying xarray objects in jupyterlab.\n",
              " *\n",
              " */\n",
              "\n",
              ":root {\n",
              "  --xr-font-color0: var(--jp-content-font-color0, rgba(0, 0, 0, 1));\n",
              "  --xr-font-color2: var(--jp-content-font-color2, rgba(0, 0, 0, 0.54));\n",
              "  --xr-font-color3: var(--jp-content-font-color3, rgba(0, 0, 0, 0.38));\n",
              "  --xr-border-color: var(--jp-border-color2, #e0e0e0);\n",
              "  --xr-disabled-color: var(--jp-layout-color3, #bdbdbd);\n",
              "  --xr-background-color: var(--jp-layout-color0, white);\n",
              "  --xr-background-color-row-even: var(--jp-layout-color1, white);\n",
              "  --xr-background-color-row-odd: var(--jp-layout-color2, #eeeeee);\n",
              "}\n",
              "\n",
              "html[theme=dark],\n",
              "body.vscode-dark {\n",
              "  --xr-font-color0: rgba(255, 255, 255, 1);\n",
              "  --xr-font-color2: rgba(255, 255, 255, 0.54);\n",
              "  --xr-font-color3: rgba(255, 255, 255, 0.38);\n",
              "  --xr-border-color: #1F1F1F;\n",
              "  --xr-disabled-color: #515151;\n",
              "  --xr-background-color: #111111;\n",
              "  --xr-background-color-row-even: #111111;\n",
              "  --xr-background-color-row-odd: #313131;\n",
              "}\n",
              "\n",
              ".xr-wrap {\n",
              "  display: block !important;\n",
              "  min-width: 300px;\n",
              "  max-width: 700px;\n",
              "}\n",
              "\n",
              ".xr-text-repr-fallback {\n",
              "  /* fallback to plain text repr when CSS is not injected (untrusted notebook) */\n",
              "  display: none;\n",
              "}\n",
              "\n",
              ".xr-header {\n",
              "  padding-top: 6px;\n",
              "  padding-bottom: 6px;\n",
              "  margin-bottom: 4px;\n",
              "  border-bottom: solid 1px var(--xr-border-color);\n",
              "}\n",
              "\n",
              ".xr-header > div,\n",
              ".xr-header > ul {\n",
              "  display: inline;\n",
              "  margin-top: 0;\n",
              "  margin-bottom: 0;\n",
              "}\n",
              "\n",
              ".xr-obj-type,\n",
              ".xr-array-name {\n",
              "  margin-left: 2px;\n",
              "  margin-right: 10px;\n",
              "}\n",
              "\n",
              ".xr-obj-type {\n",
              "  color: var(--xr-font-color2);\n",
              "}\n",
              "\n",
              ".xr-sections {\n",
              "  padding-left: 0 !important;\n",
              "  display: grid;\n",
              "  grid-template-columns: 150px auto auto 1fr 20px 20px;\n",
              "}\n",
              "\n",
              ".xr-section-item {\n",
              "  display: contents;\n",
              "}\n",
              "\n",
              ".xr-section-item input {\n",
              "  display: none;\n",
              "}\n",
              "\n",
              ".xr-section-item input + label {\n",
              "  color: var(--xr-disabled-color);\n",
              "}\n",
              "\n",
              ".xr-section-item input:enabled + label {\n",
              "  cursor: pointer;\n",
              "  color: var(--xr-font-color2);\n",
              "}\n",
              "\n",
              ".xr-section-item input:enabled + label:hover {\n",
              "  color: var(--xr-font-color0);\n",
              "}\n",
              "\n",
              ".xr-section-summary {\n",
              "  grid-column: 1;\n",
              "  color: var(--xr-font-color2);\n",
              "  font-weight: 500;\n",
              "}\n",
              "\n",
              ".xr-section-summary > span {\n",
              "  display: inline-block;\n",
              "  padding-left: 0.5em;\n",
              "}\n",
              "\n",
              ".xr-section-summary-in:disabled + label {\n",
              "  color: var(--xr-font-color2);\n",
              "}\n",
              "\n",
              ".xr-section-summary-in + label:before {\n",
              "  display: inline-block;\n",
              "  content: '►';\n",
              "  font-size: 11px;\n",
              "  width: 15px;\n",
              "  text-align: center;\n",
              "}\n",
              "\n",
              ".xr-section-summary-in:disabled + label:before {\n",
              "  color: var(--xr-disabled-color);\n",
              "}\n",
              "\n",
              ".xr-section-summary-in:checked + label:before {\n",
              "  content: '▼';\n",
              "}\n",
              "\n",
              ".xr-section-summary-in:checked + label > span {\n",
              "  display: none;\n",
              "}\n",
              "\n",
              ".xr-section-summary,\n",
              ".xr-section-inline-details {\n",
              "  padding-top: 4px;\n",
              "  padding-bottom: 4px;\n",
              "}\n",
              "\n",
              ".xr-section-inline-details {\n",
              "  grid-column: 2 / -1;\n",
              "}\n",
              "\n",
              ".xr-section-details {\n",
              "  display: none;\n",
              "  grid-column: 1 / -1;\n",
              "  margin-bottom: 5px;\n",
              "}\n",
              "\n",
              ".xr-section-summary-in:checked ~ .xr-section-details {\n",
              "  display: contents;\n",
              "}\n",
              "\n",
              ".xr-array-wrap {\n",
              "  grid-column: 1 / -1;\n",
              "  display: grid;\n",
              "  grid-template-columns: 20px auto;\n",
              "}\n",
              "\n",
              ".xr-array-wrap > label {\n",
              "  grid-column: 1;\n",
              "  vertical-align: top;\n",
              "}\n",
              "\n",
              ".xr-preview {\n",
              "  color: var(--xr-font-color3);\n",
              "}\n",
              "\n",
              ".xr-array-preview,\n",
              ".xr-array-data {\n",
              "  padding: 0 5px !important;\n",
              "  grid-column: 2;\n",
              "}\n",
              "\n",
              ".xr-array-data,\n",
              ".xr-array-in:checked ~ .xr-array-preview {\n",
              "  display: none;\n",
              "}\n",
              "\n",
              ".xr-array-in:checked ~ .xr-array-data,\n",
              ".xr-array-preview {\n",
              "  display: inline-block;\n",
              "}\n",
              "\n",
              ".xr-dim-list {\n",
              "  display: inline-block !important;\n",
              "  list-style: none;\n",
              "  padding: 0 !important;\n",
              "  margin: 0;\n",
              "}\n",
              "\n",
              ".xr-dim-list li {\n",
              "  display: inline-block;\n",
              "  padding: 0;\n",
              "  margin: 0;\n",
              "}\n",
              "\n",
              ".xr-dim-list:before {\n",
              "  content: '(';\n",
              "}\n",
              "\n",
              ".xr-dim-list:after {\n",
              "  content: ')';\n",
              "}\n",
              "\n",
              ".xr-dim-list li:not(:last-child):after {\n",
              "  content: ',';\n",
              "  padding-right: 5px;\n",
              "}\n",
              "\n",
              ".xr-has-index {\n",
              "  font-weight: bold;\n",
              "}\n",
              "\n",
              ".xr-var-list,\n",
              ".xr-var-item {\n",
              "  display: contents;\n",
              "}\n",
              "\n",
              ".xr-var-item > div,\n",
              ".xr-var-item label,\n",
              ".xr-var-item > .xr-var-name span {\n",
              "  background-color: var(--xr-background-color-row-even);\n",
              "  margin-bottom: 0;\n",
              "}\n",
              "\n",
              ".xr-var-item > .xr-var-name:hover span {\n",
              "  padding-right: 5px;\n",
              "}\n",
              "\n",
              ".xr-var-list > li:nth-child(odd) > div,\n",
              ".xr-var-list > li:nth-child(odd) > label,\n",
              ".xr-var-list > li:nth-child(odd) > .xr-var-name span {\n",
              "  background-color: var(--xr-background-color-row-odd);\n",
              "}\n",
              "\n",
              ".xr-var-name {\n",
              "  grid-column: 1;\n",
              "}\n",
              "\n",
              ".xr-var-dims {\n",
              "  grid-column: 2;\n",
              "}\n",
              "\n",
              ".xr-var-dtype {\n",
              "  grid-column: 3;\n",
              "  text-align: right;\n",
              "  color: var(--xr-font-color2);\n",
              "}\n",
              "\n",
              ".xr-var-preview {\n",
              "  grid-column: 4;\n",
              "}\n",
              "\n",
              ".xr-var-name,\n",
              ".xr-var-dims,\n",
              ".xr-var-dtype,\n",
              ".xr-preview,\n",
              ".xr-attrs dt {\n",
              "  white-space: nowrap;\n",
              "  overflow: hidden;\n",
              "  text-overflow: ellipsis;\n",
              "  padding-right: 10px;\n",
              "}\n",
              "\n",
              ".xr-var-name:hover,\n",
              ".xr-var-dims:hover,\n",
              ".xr-var-dtype:hover,\n",
              ".xr-attrs dt:hover {\n",
              "  overflow: visible;\n",
              "  width: auto;\n",
              "  z-index: 1;\n",
              "}\n",
              "\n",
              ".xr-var-attrs,\n",
              ".xr-var-data {\n",
              "  display: none;\n",
              "  background-color: var(--xr-background-color) !important;\n",
              "  padding-bottom: 5px !important;\n",
              "}\n",
              "\n",
              ".xr-var-attrs-in:checked ~ .xr-var-attrs,\n",
              ".xr-var-data-in:checked ~ .xr-var-data {\n",
              "  display: block;\n",
              "}\n",
              "\n",
              ".xr-var-data > table {\n",
              "  float: right;\n",
              "}\n",
              "\n",
              ".xr-var-name span,\n",
              ".xr-var-data,\n",
              ".xr-attrs {\n",
              "  padding-left: 25px !important;\n",
              "}\n",
              "\n",
              ".xr-attrs,\n",
              ".xr-var-attrs,\n",
              ".xr-var-data {\n",
              "  grid-column: 1 / -1;\n",
              "}\n",
              "\n",
              "dl.xr-attrs {\n",
              "  padding: 0;\n",
              "  margin: 0;\n",
              "  display: grid;\n",
              "  grid-template-columns: 125px auto;\n",
              "}\n",
              "\n",
              ".xr-attrs dt,\n",
              ".xr-attrs dd {\n",
              "  padding: 0;\n",
              "  margin: 0;\n",
              "  float: left;\n",
              "  padding-right: 10px;\n",
              "  width: auto;\n",
              "}\n",
              "\n",
              ".xr-attrs dt {\n",
              "  font-weight: normal;\n",
              "  grid-column: 1;\n",
              "}\n",
              "\n",
              ".xr-attrs dt:hover span {\n",
              "  display: inline-block;\n",
              "  background: var(--xr-background-color);\n",
              "  padding-right: 10px;\n",
              "}\n",
              "\n",
              ".xr-attrs dd {\n",
              "  grid-column: 2;\n",
              "  white-space: pre-wrap;\n",
              "  word-break: break-all;\n",
              "}\n",
              "\n",
              ".xr-icon-database,\n",
              ".xr-icon-file-text2 {\n",
              "  display: inline-block;\n",
              "  vertical-align: middle;\n",
              "  width: 1em;\n",
              "  height: 1.5em !important;\n",
              "  stroke-width: 0;\n",
              "  stroke: currentColor;\n",
              "  fill: currentColor;\n",
              "}\n",
              "</style><pre class='xr-text-repr-fallback'>&lt;TimeSeries (DataArray) (Fecha: 132, component: 1, sample: 1)&gt;\n",
              "array([[[  19.]],\n",
              "\n",
              "       [[  27.]],\n",
              "\n",
              "       [[  24.]],\n",
              "\n",
              "       [[  32.]],\n",
              "\n",
              "       [[  42.]],\n",
              "\n",
              "       [[  44.]],\n",
              "\n",
              "       [[  39.]],\n",
              "\n",
              "       [[  34.]],\n",
              "\n",
              "       [[  51.]],\n",
              "\n",
              "       [[  71.]],\n",
              "\n",
              "...\n",
              "\n",
              "       [[ 458.]],\n",
              "\n",
              "       [[ 492.]],\n",
              "\n",
              "       [[ 462.]],\n",
              "\n",
              "       [[ 365.]],\n",
              "\n",
              "       [[ 386.]],\n",
              "\n",
              "       [[ 371.]],\n",
              "\n",
              "       [[ 362.]],\n",
              "\n",
              "       [[ 523.]],\n",
              "\n",
              "       [[ 479.]],\n",
              "\n",
              "       [[ 349.]]])\n",
              "Coordinates:\n",
              "  * Fecha      (Fecha) datetime64[ns] 2009-01-31 2009-02-28 ... 2019-12-31\n",
              "  * component  (component) object &#x27;matlab&#x27;\n",
              "Dimensions without coordinates: sample\n",
              "Attributes:\n",
              "    static_covariates:  None\n",
              "    hierarchy:          None</pre><div class='xr-wrap' style='display:none'><div class='xr-header'><div class='xr-obj-type'>TimeSeries (DataArray)</div><div class='xr-array-name'></div><ul class='xr-dim-list'><li><span class='xr-has-index'>Fecha</span>: 132</li><li><span class='xr-has-index'>component</span>: 1</li><li><span>sample</span>: 1</li></ul></div><ul class='xr-sections'><li class='xr-section-item'><div class='xr-array-wrap'><input id='section-21a6b690-e9f8-462c-b330-f86d097f414d' class='xr-array-in' type='checkbox' checked><label for='section-21a6b690-e9f8-462c-b330-f86d097f414d' title='Show/hide data repr'><svg class='icon xr-icon-database'><use xlink:href='#icon-database'></use></svg></label><div class='xr-array-preview xr-preview'><span>19.0 27.0 24.0 32.0 42.0 44.0 ... 386.0 371.0 362.0 523.0 479.0 349.0</span></div><div class='xr-array-data'><pre>array([[[  19.]],\n",
              "\n",
              "       [[  27.]],\n",
              "\n",
              "       [[  24.]],\n",
              "\n",
              "       [[  32.]],\n",
              "\n",
              "       [[  42.]],\n",
              "\n",
              "       [[  44.]],\n",
              "\n",
              "       [[  39.]],\n",
              "\n",
              "       [[  34.]],\n",
              "\n",
              "       [[  51.]],\n",
              "\n",
              "       [[  71.]],\n",
              "\n",
              "...\n",
              "\n",
              "       [[ 458.]],\n",
              "\n",
              "       [[ 492.]],\n",
              "\n",
              "       [[ 462.]],\n",
              "\n",
              "       [[ 365.]],\n",
              "\n",
              "       [[ 386.]],\n",
              "\n",
              "       [[ 371.]],\n",
              "\n",
              "       [[ 362.]],\n",
              "\n",
              "       [[ 523.]],\n",
              "\n",
              "       [[ 479.]],\n",
              "\n",
              "       [[ 349.]]])</pre></div></div></li><li class='xr-section-item'><input id='section-198f8836-d7da-42c9-8f95-b7842e302395' class='xr-section-summary-in' type='checkbox'  checked><label for='section-198f8836-d7da-42c9-8f95-b7842e302395' class='xr-section-summary' >Coordinates: <span>(2)</span></label><div class='xr-section-inline-details'></div><div class='xr-section-details'><ul class='xr-var-list'><li class='xr-var-item'><div class='xr-var-name'><span class='xr-has-index'>Fecha</span></div><div class='xr-var-dims'>(Fecha)</div><div class='xr-var-dtype'>datetime64[ns]</div><div class='xr-var-preview xr-preview'>2009-01-31 ... 2019-12-31</div><input id='attrs-8628cf0e-c67b-4cfa-87fc-0f76801cf0aa' class='xr-var-attrs-in' type='checkbox' disabled><label for='attrs-8628cf0e-c67b-4cfa-87fc-0f76801cf0aa' title='Show/Hide attributes'><svg class='icon xr-icon-file-text2'><use xlink:href='#icon-file-text2'></use></svg></label><input id='data-1aa036af-31ff-4341-9098-26411adf16f4' class='xr-var-data-in' type='checkbox'><label for='data-1aa036af-31ff-4341-9098-26411adf16f4' title='Show/Hide data repr'><svg class='icon xr-icon-database'><use xlink:href='#icon-database'></use></svg></label><div class='xr-var-attrs'><dl class='xr-attrs'></dl></div><div class='xr-var-data'><pre>array([&#x27;2009-01-31T00:00:00.000000000&#x27;, &#x27;2009-02-28T00:00:00.000000000&#x27;,\n",
              "       &#x27;2009-03-31T00:00:00.000000000&#x27;, &#x27;2009-04-30T00:00:00.000000000&#x27;,\n",
              "       &#x27;2009-05-31T00:00:00.000000000&#x27;, &#x27;2009-06-30T00:00:00.000000000&#x27;,\n",
              "       &#x27;2009-07-31T00:00:00.000000000&#x27;, &#x27;2009-08-31T00:00:00.000000000&#x27;,\n",
              "       &#x27;2009-09-30T00:00:00.000000000&#x27;, &#x27;2009-10-31T00:00:00.000000000&#x27;,\n",
              "       &#x27;2009-11-30T00:00:00.000000000&#x27;, &#x27;2009-12-31T00:00:00.000000000&#x27;,\n",
              "       &#x27;2010-01-31T00:00:00.000000000&#x27;, &#x27;2010-02-28T00:00:00.000000000&#x27;,\n",
              "       &#x27;2010-03-31T00:00:00.000000000&#x27;, &#x27;2010-04-30T00:00:00.000000000&#x27;,\n",
              "       &#x27;2010-05-31T00:00:00.000000000&#x27;, &#x27;2010-06-30T00:00:00.000000000&#x27;,\n",
              "       &#x27;2010-07-31T00:00:00.000000000&#x27;, &#x27;2010-08-31T00:00:00.000000000&#x27;,\n",
              "       &#x27;2010-09-30T00:00:00.000000000&#x27;, &#x27;2010-10-31T00:00:00.000000000&#x27;,\n",
              "       &#x27;2010-11-30T00:00:00.000000000&#x27;, &#x27;2010-12-31T00:00:00.000000000&#x27;,\n",
              "       &#x27;2011-01-31T00:00:00.000000000&#x27;, &#x27;2011-02-28T00:00:00.000000000&#x27;,\n",
              "       &#x27;2011-03-31T00:00:00.000000000&#x27;, &#x27;2011-04-30T00:00:00.000000000&#x27;,\n",
              "       &#x27;2011-05-31T00:00:00.000000000&#x27;, &#x27;2011-06-30T00:00:00.000000000&#x27;,\n",
              "       &#x27;2011-07-31T00:00:00.000000000&#x27;, &#x27;2011-08-31T00:00:00.000000000&#x27;,\n",
              "       &#x27;2011-09-30T00:00:00.000000000&#x27;, &#x27;2011-10-31T00:00:00.000000000&#x27;,\n",
              "       &#x27;2011-11-30T00:00:00.000000000&#x27;, &#x27;2011-12-31T00:00:00.000000000&#x27;,\n",
              "       &#x27;2012-01-31T00:00:00.000000000&#x27;, &#x27;2012-02-29T00:00:00.000000000&#x27;,\n",
              "       &#x27;2012-03-31T00:00:00.000000000&#x27;, &#x27;2012-04-30T00:00:00.000000000&#x27;,\n",
              "       &#x27;2012-05-31T00:00:00.000000000&#x27;, &#x27;2012-06-30T00:00:00.000000000&#x27;,\n",
              "       &#x27;2012-07-31T00:00:00.000000000&#x27;, &#x27;2012-08-31T00:00:00.000000000&#x27;,\n",
              "       &#x27;2012-09-30T00:00:00.000000000&#x27;, &#x27;2012-10-31T00:00:00.000000000&#x27;,\n",
              "       &#x27;2012-11-30T00:00:00.000000000&#x27;, &#x27;2012-12-31T00:00:00.000000000&#x27;,\n",
              "       &#x27;2013-01-31T00:00:00.000000000&#x27;, &#x27;2013-02-28T00:00:00.000000000&#x27;,\n",
              "       &#x27;2013-03-31T00:00:00.000000000&#x27;, &#x27;2013-04-30T00:00:00.000000000&#x27;,\n",
              "       &#x27;2013-05-31T00:00:00.000000000&#x27;, &#x27;2013-06-30T00:00:00.000000000&#x27;,\n",
              "       &#x27;2013-07-31T00:00:00.000000000&#x27;, &#x27;2013-08-31T00:00:00.000000000&#x27;,\n",
              "       &#x27;2013-09-30T00:00:00.000000000&#x27;, &#x27;2013-10-31T00:00:00.000000000&#x27;,\n",
              "       &#x27;2013-11-30T00:00:00.000000000&#x27;, &#x27;2013-12-31T00:00:00.000000000&#x27;,\n",
              "       &#x27;2014-01-31T00:00:00.000000000&#x27;, &#x27;2014-02-28T00:00:00.000000000&#x27;,\n",
              "       &#x27;2014-03-31T00:00:00.000000000&#x27;, &#x27;2014-04-30T00:00:00.000000000&#x27;,\n",
              "       &#x27;2014-05-31T00:00:00.000000000&#x27;, &#x27;2014-06-30T00:00:00.000000000&#x27;,\n",
              "       &#x27;2014-07-31T00:00:00.000000000&#x27;, &#x27;2014-08-31T00:00:00.000000000&#x27;,\n",
              "       &#x27;2014-09-30T00:00:00.000000000&#x27;, &#x27;2014-10-31T00:00:00.000000000&#x27;,\n",
              "       &#x27;2014-11-30T00:00:00.000000000&#x27;, &#x27;2014-12-31T00:00:00.000000000&#x27;,\n",
              "       &#x27;2015-01-31T00:00:00.000000000&#x27;, &#x27;2015-02-28T00:00:00.000000000&#x27;,\n",
              "       &#x27;2015-03-31T00:00:00.000000000&#x27;, &#x27;2015-04-30T00:00:00.000000000&#x27;,\n",
              "       &#x27;2015-05-31T00:00:00.000000000&#x27;, &#x27;2015-06-30T00:00:00.000000000&#x27;,\n",
              "       &#x27;2015-07-31T00:00:00.000000000&#x27;, &#x27;2015-08-31T00:00:00.000000000&#x27;,\n",
              "       &#x27;2015-09-30T00:00:00.000000000&#x27;, &#x27;2015-10-31T00:00:00.000000000&#x27;,\n",
              "       &#x27;2015-11-30T00:00:00.000000000&#x27;, &#x27;2015-12-31T00:00:00.000000000&#x27;,\n",
              "       &#x27;2016-01-31T00:00:00.000000000&#x27;, &#x27;2016-02-29T00:00:00.000000000&#x27;,\n",
              "       &#x27;2016-03-31T00:00:00.000000000&#x27;, &#x27;2016-04-30T00:00:00.000000000&#x27;,\n",
              "       &#x27;2016-05-31T00:00:00.000000000&#x27;, &#x27;2016-06-30T00:00:00.000000000&#x27;,\n",
              "       &#x27;2016-07-31T00:00:00.000000000&#x27;, &#x27;2016-08-31T00:00:00.000000000&#x27;,\n",
              "       &#x27;2016-09-30T00:00:00.000000000&#x27;, &#x27;2016-10-31T00:00:00.000000000&#x27;,\n",
              "       &#x27;2016-11-30T00:00:00.000000000&#x27;, &#x27;2016-12-31T00:00:00.000000000&#x27;,\n",
              "       &#x27;2017-01-31T00:00:00.000000000&#x27;, &#x27;2017-02-28T00:00:00.000000000&#x27;,\n",
              "       &#x27;2017-03-31T00:00:00.000000000&#x27;, &#x27;2017-04-30T00:00:00.000000000&#x27;,\n",
              "       &#x27;2017-05-31T00:00:00.000000000&#x27;, &#x27;2017-06-30T00:00:00.000000000&#x27;,\n",
              "       &#x27;2017-07-31T00:00:00.000000000&#x27;, &#x27;2017-08-31T00:00:00.000000000&#x27;,\n",
              "       &#x27;2017-09-30T00:00:00.000000000&#x27;, &#x27;2017-10-31T00:00:00.000000000&#x27;,\n",
              "       &#x27;2017-11-30T00:00:00.000000000&#x27;, &#x27;2017-12-31T00:00:00.000000000&#x27;,\n",
              "       &#x27;2018-01-31T00:00:00.000000000&#x27;, &#x27;2018-02-28T00:00:00.000000000&#x27;,\n",
              "       &#x27;2018-03-31T00:00:00.000000000&#x27;, &#x27;2018-04-30T00:00:00.000000000&#x27;,\n",
              "       &#x27;2018-05-31T00:00:00.000000000&#x27;, &#x27;2018-06-30T00:00:00.000000000&#x27;,\n",
              "       &#x27;2018-07-31T00:00:00.000000000&#x27;, &#x27;2018-08-31T00:00:00.000000000&#x27;,\n",
              "       &#x27;2018-09-30T00:00:00.000000000&#x27;, &#x27;2018-10-31T00:00:00.000000000&#x27;,\n",
              "       &#x27;2018-11-30T00:00:00.000000000&#x27;, &#x27;2018-12-31T00:00:00.000000000&#x27;,\n",
              "       &#x27;2019-01-31T00:00:00.000000000&#x27;, &#x27;2019-02-28T00:00:00.000000000&#x27;,\n",
              "       &#x27;2019-03-31T00:00:00.000000000&#x27;, &#x27;2019-04-30T00:00:00.000000000&#x27;,\n",
              "       &#x27;2019-05-31T00:00:00.000000000&#x27;, &#x27;2019-06-30T00:00:00.000000000&#x27;,\n",
              "       &#x27;2019-07-31T00:00:00.000000000&#x27;, &#x27;2019-08-31T00:00:00.000000000&#x27;,\n",
              "       &#x27;2019-09-30T00:00:00.000000000&#x27;, &#x27;2019-10-31T00:00:00.000000000&#x27;,\n",
              "       &#x27;2019-11-30T00:00:00.000000000&#x27;, &#x27;2019-12-31T00:00:00.000000000&#x27;],\n",
              "      dtype=&#x27;datetime64[ns]&#x27;)</pre></div></li><li class='xr-var-item'><div class='xr-var-name'><span class='xr-has-index'>component</span></div><div class='xr-var-dims'>(component)</div><div class='xr-var-dtype'>object</div><div class='xr-var-preview xr-preview'>&#x27;matlab&#x27;</div><input id='attrs-5117cc76-e0b0-4fad-8d06-7ee6ee53efae' class='xr-var-attrs-in' type='checkbox' disabled><label for='attrs-5117cc76-e0b0-4fad-8d06-7ee6ee53efae' title='Show/Hide attributes'><svg class='icon xr-icon-file-text2'><use xlink:href='#icon-file-text2'></use></svg></label><input id='data-4272df20-ba41-41e4-bb35-0876168fcb2c' class='xr-var-data-in' type='checkbox'><label for='data-4272df20-ba41-41e4-bb35-0876168fcb2c' title='Show/Hide data repr'><svg class='icon xr-icon-database'><use xlink:href='#icon-database'></use></svg></label><div class='xr-var-attrs'><dl class='xr-attrs'></dl></div><div class='xr-var-data'><pre>array([&#x27;matlab&#x27;], dtype=object)</pre></div></li></ul></div></li><li class='xr-section-item'><input id='section-3ea7cb65-37da-4ec7-8ade-62bfa3a1ff48' class='xr-section-summary-in' type='checkbox'  checked><label for='section-3ea7cb65-37da-4ec7-8ade-62bfa3a1ff48' class='xr-section-summary' >Attributes: <span>(2)</span></label><div class='xr-section-inline-details'></div><div class='xr-section-details'><dl class='xr-attrs'><dt><span>static_covariates :</span></dt><dd>None</dd><dt><span>hierarchy :</span></dt><dd>None</dd></dl></div></li></ul></div></div>"
            ]
          },
          "metadata": {},
          "execution_count": 67
        }
      ]
    },
    {
      "cell_type": "code",
      "source": [
        "plt.rcParams[\"figure.figsize\"] = (11,4)\n",
        "matlab_series.plot()"
      ],
      "metadata": {
        "colab": {
          "base_uri": "https://localhost:8080/",
          "height": 300
        },
        "id": "nx5yDnE3ssFe",
        "outputId": "c524255b-1d5f-4ce2-e1fe-fee87d9914f5"
      },
      "execution_count": 68,
      "outputs": [
        {
          "output_type": "display_data",
          "data": {
            "text/plain": [
              "<Figure size 792x288 with 1 Axes>"
            ],
            "image/png": "[encoded data removed]"
          },
          "metadata": {}
        }
      ]
    },
    {
      "cell_type": "code",
      "source": [
        "train_series.plot(label=\"training\")\n",
        "val_series.plot(label=\"validation\")"
      ],
      "metadata": {
        "colab": {
          "base_uri": "https://localhost:8080/",
          "height": 300
        },
        "id": "x56TAez8soT_",
        "outputId": "8c7f8909-69ee-4b39-ba50-fb853cc48605"
      },
      "execution_count": 69,
      "outputs": [
        {
          "output_type": "display_data",
          "data": {
            "text/plain": [
              "<Figure size 792x288 with 1 Axes>"
            ],
            "image/png": "[encoded data removed]"
          },
          "metadata": {}
        }
      ]
    },
    {
      "cell_type": "code",
      "source": [
        "model_TBATS = TBATS(\n",
        "use_box_cox = None,\n",
        "box_cox_bounds = (0, 1),\n",
        "use_trend = None,\n",
        "use_damped_trend = None,\n",
        "seasonal_periods = \"freq\",\n",
        "use_arma_errors = True,\n",
        "show_warnings = False,\n",
        "multiprocessing_start_method = 'spawn',\n",
        "random_state = 0)\n",
        "model_TBATS.fit(train_series)\n",
        "forecast_TBATS = model_TBATS.predict(len(val_series))\n",
        "print(\"model {} obtains MAPE: {:.2f}%\".format(model_TBATS, mape(val_series, forecast_TBATS)))"
      ],
      "metadata": {
        "colab": {
          "base_uri": "https://localhost:8080/"
        },
        "id": "rgOZrcD1s-D5",
        "outputId": "41c51718-39ee-4042-86bb-d1fe914fb699"
      },
      "execution_count": 70,
      "outputs": [
        {
          "output_type": "stream",
          "name": "stdout",
          "text": [
            "model (T)BATS obtains MAPE: 23.31%\n"
          ]
        }
      ]
    },
    {
      "cell_type": "code",
      "source": [
        "model_TBATS.model.params.summary()"
      ],
      "metadata": {
        "colab": {
          "base_uri": "https://localhost:8080/",
          "height": 107
        },
        "id": "wlDrS3yeubgW",
        "outputId": "c35aa5d6-5733-47be-9c22-c4adb1b96952"
      },
      "execution_count": 71,
      "outputs": [
        {
          "output_type": "execute_result",
          "data": {
            "text/plain": [
              "'Use Box-Cox: True\\nUse trend: True\\nUse damped trend: False\\nSeasonal periods: [12.]\\nSeasonal harmonics [4]\\nARMA errors (p, q): (0, 0)\\nBox-Cox Lambda 0.575624\\nSmoothing (Alpha): 0.731800\\nTrend (Beta): 0.041770\\nDamping Parameter (Phi): 1.000000\\nSeasonal Parameters (Gamma): [ 1.31516020e-07 -3.15248939e-07]\\nAR coefficients []\\nMA coefficients []\\nSeed vector [ 3.62023513  1.87152987  1.10672604 -4.22303091 -1.89909995  0.80224378\\n  4.20342617 -0.51672321  0.67266762  1.30258307]\\n'"
            ],
            "application/vnd.google.colaboratory.intrinsic+json": {
              "type": "string"
            }
          },
          "metadata": {},
          "execution_count": 71
        }
      ]
    },
    {
      "cell_type": "code",
      "source": [
        "train_series.plot(label=\"train\")\n",
        "val_series.plot(label=\"true\")\n",
        "forecast_TBATS.plot(label=\"prediction TBATS\")"
      ],
      "metadata": {
        "colab": {
          "base_uri": "https://localhost:8080/",
          "height": 300
        },
        "id": "hr6pvcI2u1bl",
        "outputId": "3a842bbe-11da-43aa-d9c4-f99eddf45fe3"
      },
      "execution_count": 72,
      "outputs": [
        {
          "output_type": "display_data",
          "data": {
            "text/plain": [
              "<Figure size 792x288 with 1 Axes>"
            ],
            "image/png": "[encoded data removed]"
          },
          "metadata": {}
        }
      ]
    },
    {
      "cell_type": "code",
      "source": [
        "#MAPE\n",
        "MAPE_TBATS = mape(val_series, forecast_TBATS)\n",
        "MAPE_TBATS"
      ],
      "metadata": {
        "colab": {
          "base_uri": "https://localhost:8080/"
        },
        "id": "mIS8Xy9uAdzn",
        "outputId": "f535761b-112e-4e5e-da08-31ce19534876"
      },
      "execution_count": 73,
      "outputs": [
        {
          "output_type": "execute_result",
          "data": {
            "text/plain": [
              "23.307091816401375"
            ]
          },
          "metadata": {},
          "execution_count": 73
        }
      ]
    },
    {
      "cell_type": "markdown",
      "source": [
        "Estimo el último modelo (TBATS) y obtengo unas **predicciones por debajo de los datos reales en todo momento** y un** MAPE cercano al 23%**, por lo que es un modelo bastante errático y alejado de la realidad."
      ],
      "metadata": {
        "id": "_62XwFV6NPR1"
      }
    },
    {
      "cell_type": "markdown",
      "source": [
        "## **7. Predicción de 12 meses fuera de la muestra**\n"
      ],
      "metadata": {
        "id": "YJoIUtAYy9UO"
      }
    },
    {
      "cell_type": "code",
      "source": [
        "MAPE_modelos = pd.DataFrame()\n",
        "\n",
        "MAPE_modelos['Modelos'] = [\"ETS\", \"ARIMA\", \"4THETA\", \"TBATS\"]\n",
        "MAPE_modelos['MAPE (%)'] = [MAPE_ETS, MAPE_ARIMA, MAPE_4THETA, MAPE_TBATS]\n",
        "MAPE_modelos.set_index('Modelos', inplace = True)\n",
        "MAPE_modelos = MAPE_modelos.sort_values(by = \"MAPE (%)\", ascending = True)\n",
        "\n",
        "MAPE_modelos.round(3)"
      ],
      "metadata": {
        "colab": {
          "base_uri": "https://localhost:8080/",
          "height": 206
        },
        "id": "-agfqIpYAPy7",
        "outputId": "27f75f3f-40d0-4afe-8179-aba5fc066c6a"
      },
      "execution_count": 78,
      "outputs": [
        {
          "output_type": "execute_result",
          "data": {
            "text/plain": [
              "         MAPE (%)\n",
              "Modelos          \n",
              "4THETA     12.718\n",
              "ETS        16.279\n",
              "TBATS      23.307\n",
              "ARIMA      24.206"
            ],
            "text/html": [
              "\n",
              "  <div id=\"df-6642d0d3-fb06-4906-a84e-776f8a34d0f6\">\n",
              "    <div class=\"colab-df-container\">\n",
              "      <div>\n",
              "<style scoped>\n",
              "    .dataframe tbody tr th:only-of-type {\n",
              "        vertical-align: middle;\n",
              "    }\n",
              "\n",
              "    .dataframe tbody tr th {\n",
              "        vertical-align: top;\n",
              "    }\n",
              "\n",
              "    .dataframe thead th {\n",
              "        text-align: right;\n",
              "    }\n",
              "</style>\n",
              "<table border=\"1\" class=\"dataframe\">\n",
              "  <thead>\n",
              "    <tr style=\"text-align: right;\">\n",
              "      <th></th>\n",
              "      <th>MAPE (%)</th>\n",
              "    </tr>\n",
              "    <tr>\n",
              "      <th>Modelos</th>\n",
              "      <th></th>\n",
              "    </tr>\n",
              "  </thead>\n",
              "  <tbody>\n",
              "    <tr>\n",
              "      <th>4THETA</th>\n",
              "      <td>12.718</td>\n",
              "    </tr>\n",
              "    <tr>\n",
              "      <th>ETS</th>\n",
              "      <td>16.279</td>\n",
              "    </tr>\n",
              "    <tr>\n",
              "      <th>TBATS</th>\n",
              "      <td>23.307</td>\n",
              "    </tr>\n",
              "    <tr>\n",
              "      <th>ARIMA</th>\n",
              "      <td>24.206</td>\n",
              "    </tr>\n",
              "  </tbody>\n",
              "</table>\n",
              "</div>\n",
              "      <button class=\"colab-df-convert\" onclick=\"convertToInteractive('df-6642d0d3-fb06-4906-a84e-776f8a34d0f6')\"\n",
              "              title=\"Convert this dataframe to an interactive table.\"\n",
              "              style=\"display:none;\">\n",
              "        \n",
              "  <svg xmlns=\"http://www.w3.org/2000/svg\" height=\"24px\"viewBox=\"0 0 24 24\"\n",
              "       width=\"24px\">\n",
              "    <path d=\"M0 0h24v24H0V0z\" fill=\"none\"/>\n",
              "    <path d=\"M18.56 5.44l.94 2.06.94-2.06 2.06-.94-2.06-.94-.94-2.06-.94 2.06-2.06.94zm-11 1L8.5 8.5l.94-2.06 2.06-.94-2.06-.94L8.5 2.5l-.94 2.06-2.06.94zm10 10l.94 2.06.94-2.06 2.06-.94-2.06-.94-.94-2.06-.94 2.06-2.06.94z\"/><path d=\"M17.41 7.96l-1.37-1.37c-.4-.4-.92-.59-1.43-.59-.52 0-1.04.2-1.43.59L10.3 9.45l-7.72 7.72c-.78.78-.78 2.05 0 2.83L4 21.41c.39.39.9.59 1.41.59.51 0 1.02-.2 1.41-.59l7.78-7.78 2.81-2.81c.8-.78.8-2.07 0-2.86zM5.41 20L4 18.59l7.72-7.72 1.47 1.35L5.41 20z\"/>\n",
              "  </svg>\n",
              "      </button>\n",
              "      \n",
              "  <style>\n",
              "    .colab-df-container {\n",
              "      display:flex;\n",
              "      flex-wrap:wrap;\n",
              "      gap: 12px;\n",
              "    }\n",
              "\n",
              "    .colab-df-convert {\n",
              "      background-color: #E8F0FE;\n",
              "      border: none;\n",
              "      border-radius: 50%;\n",
              "      cursor: pointer;\n",
              "      display: none;\n",
              "      fill: #1967D2;\n",
              "      height: 32px;\n",
              "      padding: 0 0 0 0;\n",
              "      width: 32px;\n",
              "    }\n",
              "\n",
              "    .colab-df-convert:hover {\n",
              "      background-color: #E2EBFA;\n",
              "      box-shadow: 0px 1px 2px rgba(60, 64, 67, 0.3), 0px 1px 3px 1px rgba(60, 64, 67, 0.15);\n",
              "      fill: #174EA6;\n",
              "    }\n",
              "\n",
              "    [theme=dark] .colab-df-convert {\n",
              "      background-color: #3B4455;\n",
              "      fill: #D2E3FC;\n",
              "    }\n",
              "\n",
              "    [theme=dark] .colab-df-convert:hover {\n",
              "      background-color: #434B5C;\n",
              "      box-shadow: 0px 1px 3px 1px rgba(0, 0, 0, 0.15);\n",
              "      filter: drop-shadow(0px 1px 2px rgba(0, 0, 0, 0.3));\n",
              "      fill: #FFFFFF;\n",
              "    }\n",
              "  </style>\n",
              "\n",
              "      <script>\n",
              "        const buttonEl =\n",
              "          document.querySelector('#df-6642d0d3-fb06-4906-a84e-776f8a34d0f6 button.colab-df-convert');\n",
              "        buttonEl.style.display =\n",
              "          google.colab.kernel.accessAllowed ? 'block' : 'none';\n",
              "\n",
              "        async function convertToInteractive(key) {\n",
              "          const element = document.querySelector('#df-6642d0d3-fb06-4906-a84e-776f8a34d0f6');\n",
              "          const dataTable =\n",
              "            await google.colab.kernel.invokeFunction('convertToInteractive',\n",
              "                                                     [key], {});\n",
              "          if (!dataTable) return;\n",
              "\n",
              "          const docLinkHtml = 'Like what you see? Visit the ' +\n",
              "            '<a target=\"_blank\" href=https://colab.research.google.com/notebooks/data_table.ipynb>data table notebook</a>'\n",
              "            + ' to learn more about interactive tables.';\n",
              "          element.innerHTML = '';\n",
              "          dataTable['output_type'] = 'display_data';\n",
              "          await google.colab.output.renderOutput(dataTable, element);\n",
              "          const docLink = document.createElement('div');\n",
              "          docLink.innerHTML = docLinkHtml;\n",
              "          element.appendChild(docLink);\n",
              "        }\n",
              "      </script>\n",
              "    </div>\n",
              "  </div>\n",
              "  "
            ]
          },
          "metadata": {},
          "execution_count": 78
        }
      ]
    },
    {
      "cell_type": "markdown",
      "source": [
        "Se puede ver como tras estimar los cuatro modelos, **el que obtiene un menor MAPE es el 4Theta**, por lo tanto es el mejor modelo de los \n",
        "cuatro ya que tiene un menor error.\n",
        "\n",
        "Tras seleccionar cual es el mejor modelo, procedo a realizar una predicción de 12 meses fuera de la muestra sobre ese modelo, \n",
        "en este caso, el modelo 4Theta.\n",
        "\n"
      ],
      "metadata": {
        "id": "m8cEZ1VaN8ZM"
      }
    },
    {
      "cell_type": "code",
      "source": [
        "theta_grid2 = {\n",
        "    #'theta':2- np.linspace(-10, 10, 10),\n",
        "    'theta':[-4,-3,-2,-1,1,2,3,4],\n",
        "    'model_mode': [ModelMode.ADDITIVE,ModelMode.MULTIPLICATIVE],\n",
        "    'season_mode': [SeasonalityMode.MULTIPLICATIVE,SeasonalityMode.ADDITIVE],\n",
        "    'trend_mode': [TrendMode.EXPONENTIAL,TrendMode.LINEAR]\n",
        "}\n",
        "\n",
        "best_grid_model2 = FourTheta.gridsearch(parameters = theta_grid2,\n",
        "                                series = matlab_series,\n",
        "                                forecast_horizon = 12,\n",
        "                                start = 0.5,\n",
        "                                last_points_only = False,\n",
        "                                metric = mape,\n",
        "                                reduction = np.mean,\n",
        "                                verbose = False,\n",
        "                                n_jobs = -1) \n",
        "\n",
        "best_grid_model2"
      ],
      "metadata": {
        "colab": {
          "base_uri": "https://localhost:8080/"
        },
        "id": "RX8dZPOdO8SG",
        "outputId": "6ae8826d-44eb-474b-e696-84a79efc6888"
      },
      "execution_count": 94,
      "outputs": [
        {
          "output_type": "execute_result",
          "data": {
            "text/plain": [
              "(<darts.models.forecasting.theta.FourTheta at 0x7f82084bad90>,\n",
              " {'theta': 1,\n",
              "  'model_mode': <ModelMode.ADDITIVE: 'additive'>,\n",
              "  'season_mode': <SeasonalityMode.ADDITIVE: 'additive'>,\n",
              "  'trend_mode': <TrendMode.EXPONENTIAL: 'exponential'>},\n",
              " 23.026167702147593)"
            ]
          },
          "metadata": {},
          "execution_count": 94
        }
      ]
    },
    {
      "cell_type": "code",
      "source": [
        "modelo3 = FourTheta(theta = best_grid_model[1]['theta'],\n",
        "                 model_mode = ModelMode.ADDITIVE,\n",
        "                 season_mode = SeasonalityMode.ADDITIVE,\n",
        "                 trend_mode = TrendMode.EXPONENTIAL\n",
        "                 )\n",
        "modelo3.fit(matlab_series)\n",
        "pred_modelo2 = modelo3.predict(12)\n",
        "\n",
        "matlab_series.plot(label = \"matlab_series\")\n",
        "pred_modelo2.plot(label = \"prediction\")"
      ],
      "metadata": {
        "id": "fRLnzUmjzSMN",
        "colab": {
          "base_uri": "https://localhost:8080/",
          "height": 300
        },
        "outputId": "9a32620a-c9f1-4b84-90e9-57ed08de2c56"
      },
      "execution_count": 95,
      "outputs": [
        {
          "output_type": "display_data",
          "data": {
            "text/plain": [
              "<Figure size 792x288 with 1 Axes>"
            ],
            "image/png": "[encoded data removed]"
          },
          "metadata": {}
        }
      ]
    },
    {
      "cell_type": "code",
      "source": [
        "pred_modelo2"
      ],
      "metadata": {
        "colab": {
          "base_uri": "https://localhost:8080/",
          "height": 586
        },
        "id": "Rc0veKd9RJe2",
        "outputId": "765876da-7958-4c4a-eba2-9d0095ea5202"
      },
      "execution_count": 96,
      "outputs": [
        {
          "output_type": "execute_result",
          "data": {
            "text/plain": [
              "<TimeSeries (DataArray) (Fecha: 12, component: 1, sample: 1)>\n",
              "array([[[331.27803191]],\n",
              "\n",
              "       [[327.92465725]],\n",
              "\n",
              "       [[323.26825229]],\n",
              "\n",
              "       [[323.85427158]],\n",
              "\n",
              "       [[335.50847268]],\n",
              "\n",
              "       [[322.52321097]],\n",
              "\n",
              "       [[325.60454706]],\n",
              "\n",
              "       [[361.37954706]],\n",
              "\n",
              "       [[373.62424403]],\n",
              "\n",
              "       [[371.32348645]],\n",
              "\n",
              "       [[349.0000016 ]],\n",
              "\n",
              "       [[331.27803191]]])\n",
              "Coordinates:\n",
              "  * Fecha      (Fecha) datetime64[ns] 2020-01-31 2020-02-29 ... 2020-12-31\n",
              "  * component  (component) object 'matlab'\n",
              "Dimensions without coordinates: sample\n",
              "Attributes:\n",
              "    static_covariates:  None\n",
              "    hierarchy:          None"
            ],
            "text/html": [
              "<div><svg style=\"position: absolute; width: 0; height: 0; overflow: hidden\">\n",
              "<defs>\n",
              "<symbol id=\"icon-database\" viewBox=\"0 0 32 32\">\n",
              "<path d=\"M16 0c-8.837 0-16 2.239-16 5v4c0 2.761 7.163 5 16 5s16-2.239 16-5v-4c0-2.761-7.163-5-16-5z\"></path>\n",
              "<path d=\"M16 17c-8.837 0-16-2.239-16-5v6c0 2.761 7.163 5 16 5s16-2.239 16-5v-6c0 2.761-7.163 5-16 5z\"></path>\n",
              "<path d=\"M16 26c-8.837 0-16-2.239-16-5v6c0 2.761 7.163 5 16 5s16-2.239 16-5v-6c0 2.761-7.163 5-16 5z\"></path>\n",
              "</symbol>\n",
              "<symbol id=\"icon-file-text2\" viewBox=\"0 0 32 32\">\n",
              "<path d=\"M28.681 7.159c-0.694-0.947-1.662-2.053-2.724-3.116s-2.169-2.030-3.116-2.724c-1.612-1.182-2.393-1.319-2.841-1.319h-15.5c-1.378 0-2.5 1.121-2.5 2.5v27c0 1.378 1.122 2.5 2.5 2.5h23c1.378 0 2.5-1.122 2.5-2.5v-19.5c0-0.448-0.137-1.23-1.319-2.841zM24.543 5.457c0.959 0.959 1.712 1.825 2.268 2.543h-4.811v-4.811c0.718 0.556 1.584 1.309 2.543 2.268zM28 29.5c0 0.271-0.229 0.5-0.5 0.5h-23c-0.271 0-0.5-0.229-0.5-0.5v-27c0-0.271 0.229-0.5 0.5-0.5 0 0 15.499-0 15.5 0v7c0 0.552 0.448 1 1 1h7v19.5z\"></path>\n",
              "<path d=\"M23 26h-14c-0.552 0-1-0.448-1-1s0.448-1 1-1h14c0.552 0 1 0.448 1 1s-0.448 1-1 1z\"></path>\n",
              "<path d=\"M23 22h-14c-0.552 0-1-0.448-1-1s0.448-1 1-1h14c0.552 0 1 0.448 1 1s-0.448 1-1 1z\"></path>\n",
              "<path d=\"M23 18h-14c-0.552 0-1-0.448-1-1s0.448-1 1-1h14c0.552 0 1 0.448 1 1s-0.448 1-1 1z\"></path>\n",
              "</symbol>\n",
              "</defs>\n",
              "</svg>\n",
              "<style>/* CSS stylesheet for displaying xarray objects in jupyterlab.\n",
              " *\n",
              " */\n",
              "\n",
              ":root {\n",
              "  --xr-font-color0: var(--jp-content-font-color0, rgba(0, 0, 0, 1));\n",
              "  --xr-font-color2: var(--jp-content-font-color2, rgba(0, 0, 0, 0.54));\n",
              "  --xr-font-color3: var(--jp-content-font-color3, rgba(0, 0, 0, 0.38));\n",
              "  --xr-border-color: var(--jp-border-color2, #e0e0e0);\n",
              "  --xr-disabled-color: var(--jp-layout-color3, #bdbdbd);\n",
              "  --xr-background-color: var(--jp-layout-color0, white);\n",
              "  --xr-background-color-row-even: var(--jp-layout-color1, white);\n",
              "  --xr-background-color-row-odd: var(--jp-layout-color2, #eeeeee);\n",
              "}\n",
              "\n",
              "html[theme=dark],\n",
              "body.vscode-dark {\n",
              "  --xr-font-color0: rgba(255, 255, 255, 1);\n",
              "  --xr-font-color2: rgba(255, 255, 255, 0.54);\n",
              "  --xr-font-color3: rgba(255, 255, 255, 0.38);\n",
              "  --xr-border-color: #1F1F1F;\n",
              "  --xr-disabled-color: #515151;\n",
              "  --xr-background-color: #111111;\n",
              "  --xr-background-color-row-even: #111111;\n",
              "  --xr-background-color-row-odd: #313131;\n",
              "}\n",
              "\n",
              ".xr-wrap {\n",
              "  display: block !important;\n",
              "  min-width: 300px;\n",
              "  max-width: 700px;\n",
              "}\n",
              "\n",
              ".xr-text-repr-fallback {\n",
              "  /* fallback to plain text repr when CSS is not injected (untrusted notebook) */\n",
              "  display: none;\n",
              "}\n",
              "\n",
              ".xr-header {\n",
              "  padding-top: 6px;\n",
              "  padding-bottom: 6px;\n",
              "  margin-bottom: 4px;\n",
              "  border-bottom: solid 1px var(--xr-border-color);\n",
              "}\n",
              "\n",
              ".xr-header > div,\n",
              ".xr-header > ul {\n",
              "  display: inline;\n",
              "  margin-top: 0;\n",
              "  margin-bottom: 0;\n",
              "}\n",
              "\n",
              ".xr-obj-type,\n",
              ".xr-array-name {\n",
              "  margin-left: 2px;\n",
              "  margin-right: 10px;\n",
              "}\n",
              "\n",
              ".xr-obj-type {\n",
              "  color: var(--xr-font-color2);\n",
              "}\n",
              "\n",
              ".xr-sections {\n",
              "  padding-left: 0 !important;\n",
              "  display: grid;\n",
              "  grid-template-columns: 150px auto auto 1fr 20px 20px;\n",
              "}\n",
              "\n",
              ".xr-section-item {\n",
              "  display: contents;\n",
              "}\n",
              "\n",
              ".xr-section-item input {\n",
              "  display: none;\n",
              "}\n",
              "\n",
              ".xr-section-item input + label {\n",
              "  color: var(--xr-disabled-color);\n",
              "}\n",
              "\n",
              ".xr-section-item input:enabled + label {\n",
              "  cursor: pointer;\n",
              "  color: var(--xr-font-color2);\n",
              "}\n",
              "\n",
              ".xr-section-item input:enabled + label:hover {\n",
              "  color: var(--xr-font-color0);\n",
              "}\n",
              "\n",
              ".xr-section-summary {\n",
              "  grid-column: 1;\n",
              "  color: var(--xr-font-color2);\n",
              "  font-weight: 500;\n",
              "}\n",
              "\n",
              ".xr-section-summary > span {\n",
              "  display: inline-block;\n",
              "  padding-left: 0.5em;\n",
              "}\n",
              "\n",
              ".xr-section-summary-in:disabled + label {\n",
              "  color: var(--xr-font-color2);\n",
              "}\n",
              "\n",
              ".xr-section-summary-in + label:before {\n",
              "  display: inline-block;\n",
              "  content: '►';\n",
              "  font-size: 11px;\n",
              "  width: 15px;\n",
              "  text-align: center;\n",
              "}\n",
              "\n",
              ".xr-section-summary-in:disabled + label:before {\n",
              "  color: var(--xr-disabled-color);\n",
              "}\n",
              "\n",
              ".xr-section-summary-in:checked + label:before {\n",
              "  content: '▼';\n",
              "}\n",
              "\n",
              ".xr-section-summary-in:checked + label > span {\n",
              "  display: none;\n",
              "}\n",
              "\n",
              ".xr-section-summary,\n",
              ".xr-section-inline-details {\n",
              "  padding-top: 4px;\n",
              "  padding-bottom: 4px;\n",
              "}\n",
              "\n",
              ".xr-section-inline-details {\n",
              "  grid-column: 2 / -1;\n",
              "}\n",
              "\n",
              ".xr-section-details {\n",
              "  display: none;\n",
              "  grid-column: 1 / -1;\n",
              "  margin-bottom: 5px;\n",
              "}\n",
              "\n",
              ".xr-section-summary-in:checked ~ .xr-section-details {\n",
              "  display: contents;\n",
              "}\n",
              "\n",
              ".xr-array-wrap {\n",
              "  grid-column: 1 / -1;\n",
              "  display: grid;\n",
              "  grid-template-columns: 20px auto;\n",
              "}\n",
              "\n",
              ".xr-array-wrap > label {\n",
              "  grid-column: 1;\n",
              "  vertical-align: top;\n",
              "}\n",
              "\n",
              ".xr-preview {\n",
              "  color: var(--xr-font-color3);\n",
              "}\n",
              "\n",
              ".xr-array-preview,\n",
              ".xr-array-data {\n",
              "  padding: 0 5px !important;\n",
              "  grid-column: 2;\n",
              "}\n",
              "\n",
              ".xr-array-data,\n",
              ".xr-array-in:checked ~ .xr-array-preview {\n",
              "  display: none;\n",
              "}\n",
              "\n",
              ".xr-array-in:checked ~ .xr-array-data,\n",
              ".xr-array-preview {\n",
              "  display: inline-block;\n",
              "}\n",
              "\n",
              ".xr-dim-list {\n",
              "  display: inline-block !important;\n",
              "  list-style: none;\n",
              "  padding: 0 !important;\n",
              "  margin: 0;\n",
              "}\n",
              "\n",
              ".xr-dim-list li {\n",
              "  display: inline-block;\n",
              "  padding: 0;\n",
              "  margin: 0;\n",
              "}\n",
              "\n",
              ".xr-dim-list:before {\n",
              "  content: '(';\n",
              "}\n",
              "\n",
              ".xr-dim-list:after {\n",
              "  content: ')';\n",
              "}\n",
              "\n",
              ".xr-dim-list li:not(:last-child):after {\n",
              "  content: ',';\n",
              "  padding-right: 5px;\n",
              "}\n",
              "\n",
              ".xr-has-index {\n",
              "  font-weight: bold;\n",
              "}\n",
              "\n",
              ".xr-var-list,\n",
              ".xr-var-item {\n",
              "  display: contents;\n",
              "}\n",
              "\n",
              ".xr-var-item > div,\n",
              ".xr-var-item label,\n",
              ".xr-var-item > .xr-var-name span {\n",
              "  background-color: var(--xr-background-color-row-even);\n",
              "  margin-bottom: 0;\n",
              "}\n",
              "\n",
              ".xr-var-item > .xr-var-name:hover span {\n",
              "  padding-right: 5px;\n",
              "}\n",
              "\n",
              ".xr-var-list > li:nth-child(odd) > div,\n",
              ".xr-var-list > li:nth-child(odd) > label,\n",
              ".xr-var-list > li:nth-child(odd) > .xr-var-name span {\n",
              "  background-color: var(--xr-background-color-row-odd);\n",
              "}\n",
              "\n",
              ".xr-var-name {\n",
              "  grid-column: 1;\n",
              "}\n",
              "\n",
              ".xr-var-dims {\n",
              "  grid-column: 2;\n",
              "}\n",
              "\n",
              ".xr-var-dtype {\n",
              "  grid-column: 3;\n",
              "  text-align: right;\n",
              "  color: var(--xr-font-color2);\n",
              "}\n",
              "\n",
              ".xr-var-preview {\n",
              "  grid-column: 4;\n",
              "}\n",
              "\n",
              ".xr-var-name,\n",
              ".xr-var-dims,\n",
              ".xr-var-dtype,\n",
              ".xr-preview,\n",
              ".xr-attrs dt {\n",
              "  white-space: nowrap;\n",
              "  overflow: hidden;\n",
              "  text-overflow: ellipsis;\n",
              "  padding-right: 10px;\n",
              "}\n",
              "\n",
              ".xr-var-name:hover,\n",
              ".xr-var-dims:hover,\n",
              ".xr-var-dtype:hover,\n",
              ".xr-attrs dt:hover {\n",
              "  overflow: visible;\n",
              "  width: auto;\n",
              "  z-index: 1;\n",
              "}\n",
              "\n",
              ".xr-var-attrs,\n",
              ".xr-var-data {\n",
              "  display: none;\n",
              "  background-color: var(--xr-background-color) !important;\n",
              "  padding-bottom: 5px !important;\n",
              "}\n",
              "\n",
              ".xr-var-attrs-in:checked ~ .xr-var-attrs,\n",
              ".xr-var-data-in:checked ~ .xr-var-data {\n",
              "  display: block;\n",
              "}\n",
              "\n",
              ".xr-var-data > table {\n",
              "  float: right;\n",
              "}\n",
              "\n",
              ".xr-var-name span,\n",
              ".xr-var-data,\n",
              ".xr-attrs {\n",
              "  padding-left: 25px !important;\n",
              "}\n",
              "\n",
              ".xr-attrs,\n",
              ".xr-var-attrs,\n",
              ".xr-var-data {\n",
              "  grid-column: 1 / -1;\n",
              "}\n",
              "\n",
              "dl.xr-attrs {\n",
              "  padding: 0;\n",
              "  margin: 0;\n",
              "  display: grid;\n",
              "  grid-template-columns: 125px auto;\n",
              "}\n",
              "\n",
              ".xr-attrs dt,\n",
              ".xr-attrs dd {\n",
              "  padding: 0;\n",
              "  margin: 0;\n",
              "  float: left;\n",
              "  padding-right: 10px;\n",
              "  width: auto;\n",
              "}\n",
              "\n",
              ".xr-attrs dt {\n",
              "  font-weight: normal;\n",
              "  grid-column: 1;\n",
              "}\n",
              "\n",
              ".xr-attrs dt:hover span {\n",
              "  display: inline-block;\n",
              "  background: var(--xr-background-color);\n",
              "  padding-right: 10px;\n",
              "}\n",
              "\n",
              ".xr-attrs dd {\n",
              "  grid-column: 2;\n",
              "  white-space: pre-wrap;\n",
              "  word-break: break-all;\n",
              "}\n",
              "\n",
              ".xr-icon-database,\n",
              ".xr-icon-file-text2 {\n",
              "  display: inline-block;\n",
              "  vertical-align: middle;\n",
              "  width: 1em;\n",
              "  height: 1.5em !important;\n",
              "  stroke-width: 0;\n",
              "  stroke: currentColor;\n",
              "  fill: currentColor;\n",
              "}\n",
              "</style><pre class='xr-text-repr-fallback'>&lt;TimeSeries (DataArray) (Fecha: 12, component: 1, sample: 1)&gt;\n",
              "array([[[331.27803191]],\n",
              "\n",
              "       [[327.92465725]],\n",
              "\n",
              "       [[323.26825229]],\n",
              "\n",
              "       [[323.85427158]],\n",
              "\n",
              "       [[335.50847268]],\n",
              "\n",
              "       [[322.52321097]],\n",
              "\n",
              "       [[325.60454706]],\n",
              "\n",
              "       [[361.37954706]],\n",
              "\n",
              "       [[373.62424403]],\n",
              "\n",
              "       [[371.32348645]],\n",
              "\n",
              "       [[349.0000016 ]],\n",
              "\n",
              "       [[331.27803191]]])\n",
              "Coordinates:\n",
              "  * Fecha      (Fecha) datetime64[ns] 2020-01-31 2020-02-29 ... 2020-12-31\n",
              "  * component  (component) object &#x27;matlab&#x27;\n",
              "Dimensions without coordinates: sample\n",
              "Attributes:\n",
              "    static_covariates:  None\n",
              "    hierarchy:          None</pre><div class='xr-wrap' style='display:none'><div class='xr-header'><div class='xr-obj-type'>TimeSeries (DataArray)</div><div class='xr-array-name'></div><ul class='xr-dim-list'><li><span class='xr-has-index'>Fecha</span>: 12</li><li><span class='xr-has-index'>component</span>: 1</li><li><span>sample</span>: 1</li></ul></div><ul class='xr-sections'><li class='xr-section-item'><div class='xr-array-wrap'><input id='section-f76def96-591c-40d9-870d-6db1f67a85e8' class='xr-array-in' type='checkbox' checked><label for='section-f76def96-591c-40d9-870d-6db1f67a85e8' title='Show/hide data repr'><svg class='icon xr-icon-database'><use xlink:href='#icon-database'></use></svg></label><div class='xr-array-preview xr-preview'><span>331.3 327.9 323.3 323.9 335.5 322.5 ... 361.4 373.6 371.3 349.0 331.3</span></div><div class='xr-array-data'><pre>array([[[331.27803191]],\n",
              "\n",
              "       [[327.92465725]],\n",
              "\n",
              "       [[323.26825229]],\n",
              "\n",
              "       [[323.85427158]],\n",
              "\n",
              "       [[335.50847268]],\n",
              "\n",
              "       [[322.52321097]],\n",
              "\n",
              "       [[325.60454706]],\n",
              "\n",
              "       [[361.37954706]],\n",
              "\n",
              "       [[373.62424403]],\n",
              "\n",
              "       [[371.32348645]],\n",
              "\n",
              "       [[349.0000016 ]],\n",
              "\n",
              "       [[331.27803191]]])</pre></div></div></li><li class='xr-section-item'><input id='section-af763be2-eccf-429c-acca-a3ce41bd3d07' class='xr-section-summary-in' type='checkbox'  checked><label for='section-af763be2-eccf-429c-acca-a3ce41bd3d07' class='xr-section-summary' >Coordinates: <span>(2)</span></label><div class='xr-section-inline-details'></div><div class='xr-section-details'><ul class='xr-var-list'><li class='xr-var-item'><div class='xr-var-name'><span class='xr-has-index'>Fecha</span></div><div class='xr-var-dims'>(Fecha)</div><div class='xr-var-dtype'>datetime64[ns]</div><div class='xr-var-preview xr-preview'>2020-01-31 ... 2020-12-31</div><input id='attrs-fb745b6f-fb42-4dde-8c90-e436ad001763' class='xr-var-attrs-in' type='checkbox' disabled><label for='attrs-fb745b6f-fb42-4dde-8c90-e436ad001763' title='Show/Hide attributes'><svg class='icon xr-icon-file-text2'><use xlink:href='#icon-file-text2'></use></svg></label><input id='data-4116e76a-a01b-4b28-a738-1b712752cd37' class='xr-var-data-in' type='checkbox'><label for='data-4116e76a-a01b-4b28-a738-1b712752cd37' title='Show/Hide data repr'><svg class='icon xr-icon-database'><use xlink:href='#icon-database'></use></svg></label><div class='xr-var-attrs'><dl class='xr-attrs'></dl></div><div class='xr-var-data'><pre>array([&#x27;2020-01-31T00:00:00.000000000&#x27;, &#x27;2020-02-29T00:00:00.000000000&#x27;,\n",
              "       &#x27;2020-03-31T00:00:00.000000000&#x27;, &#x27;2020-04-30T00:00:00.000000000&#x27;,\n",
              "       &#x27;2020-05-31T00:00:00.000000000&#x27;, &#x27;2020-06-30T00:00:00.000000000&#x27;,\n",
              "       &#x27;2020-07-31T00:00:00.000000000&#x27;, &#x27;2020-08-31T00:00:00.000000000&#x27;,\n",
              "       &#x27;2020-09-30T00:00:00.000000000&#x27;, &#x27;2020-10-31T00:00:00.000000000&#x27;,\n",
              "       &#x27;2020-11-30T00:00:00.000000000&#x27;, &#x27;2020-12-31T00:00:00.000000000&#x27;],\n",
              "      dtype=&#x27;datetime64[ns]&#x27;)</pre></div></li><li class='xr-var-item'><div class='xr-var-name'><span class='xr-has-index'>component</span></div><div class='xr-var-dims'>(component)</div><div class='xr-var-dtype'>object</div><div class='xr-var-preview xr-preview'>&#x27;matlab&#x27;</div><input id='attrs-1303c718-9726-457d-9686-3880c9ca7c26' class='xr-var-attrs-in' type='checkbox' disabled><label for='attrs-1303c718-9726-457d-9686-3880c9ca7c26' title='Show/Hide attributes'><svg class='icon xr-icon-file-text2'><use xlink:href='#icon-file-text2'></use></svg></label><input id='data-79655fa3-3b50-4003-be1e-4cf52a49d301' class='xr-var-data-in' type='checkbox'><label for='data-79655fa3-3b50-4003-be1e-4cf52a49d301' title='Show/Hide data repr'><svg class='icon xr-icon-database'><use xlink:href='#icon-database'></use></svg></label><div class='xr-var-attrs'><dl class='xr-attrs'></dl></div><div class='xr-var-data'><pre>array([&#x27;matlab&#x27;], dtype=object)</pre></div></li></ul></div></li><li class='xr-section-item'><input id='section-872902c9-4e7d-43ef-9b44-1cd158054cb0' class='xr-section-summary-in' type='checkbox'  checked><label for='section-872902c9-4e7d-43ef-9b44-1cd158054cb0' class='xr-section-summary' >Attributes: <span>(2)</span></label><div class='xr-section-inline-details'></div><div class='xr-section-details'><dl class='xr-attrs'><dt><span>static_covariates :</span></dt><dd>None</dd><dt><span>hierarchy :</span></dt><dd>None</dd></dl></div></li></ul></div></div>"
            ]
          },
          "metadata": {},
          "execution_count": 96
        }
      ]
    },
    {
      "cell_type": "markdown",
      "source": [
        "Tras ver cuales son los hiperparámetros adecuados y estimar el modelo 4Theta para los próximos 12 meses fuera de la muestra, **obtengo una predicción que sigue siendo bastante baja.**\n",
        "\n",
        "Por lo visto en las estimaciones anteriores sobre test, **las predicciones seguramente se encuentren por debajo de las consultas reales sobre matlab.**"
      ],
      "metadata": {
        "id": "_1itr-8vRyYr"
      }
    }
  ]
}